{
 "cells": [
  {
   "cell_type": "code",
   "execution_count": 1,
   "metadata": {},
   "outputs": [],
   "source": [
    "import pymongo"
   ]
  },
  {
   "cell_type": "code",
   "execution_count": 2,
   "metadata": {},
   "outputs": [
    {
     "data": {
      "text/plain": [
       "['BDClientes',\n",
       " 'BDPacientes',\n",
       " 'BDSuCasa',\n",
       " 'Provincias',\n",
       " 'admin',\n",
       " 'clasesabadoBD',\n",
       " 'config',\n",
       " 'local',\n",
       " 'practica',\n",
       " 'prueba']"
      ]
     },
     "execution_count": 2,
     "metadata": {},
     "output_type": "execute_result"
    }
   ],
   "source": [
    "# Conexión al servidor local de mongodb\n",
    "conex = pymongo.MongoClient()\n",
    "conex.list_database_names()"
   ]
  },
  {
   "cell_type": "code",
   "execution_count": 3,
   "metadata": {},
   "outputs": [],
   "source": [
    "# Conexión a la base de datos e inserción en la colección de documentos\n",
    "db = conex.practica"
   ]
  },
  {
   "cell_type": "code",
   "execution_count": 4,
   "metadata": {},
   "outputs": [
    {
     "data": {
      "text/plain": [
       "['autores', 'documentos']"
      ]
     },
     "execution_count": 4,
     "metadata": {},
     "output_type": "execute_result"
    }
   ],
   "source": [
    "db.list_collection_names()"
   ]
  },
  {
   "cell_type": "code",
   "execution_count": 5,
   "metadata": {},
   "outputs": [
    {
     "data": {
      "text/plain": [
       "1599879"
      ]
     },
     "execution_count": 5,
     "metadata": {},
     "output_type": "execute_result"
    }
   ],
   "source": [
    "db.get_collection('autores').estimated_document_count()"
   ]
  },
  {
   "cell_type": "code",
   "execution_count": 6,
   "metadata": {},
   "outputs": [
    {
     "data": {
      "text/plain": [
       "2295473"
      ]
     },
     "execution_count": 6,
     "metadata": {},
     "output_type": "execute_result"
    }
   ],
   "source": [
    "db.get_collection('documentos').estimated_document_count()"
   ]
  },
  {
   "cell_type": "markdown",
   "metadata": {},
   "source": [
    "### C1"
   ]
  },
  {
   "cell_type": "markdown",
   "metadata": {},
   "source": [
    "Listado de todas las publicaciones de un autor determinado"
   ]
  },
  {
   "cell_type": "code",
   "execution_count": 53,
   "metadata": {},
   "outputs": [
    {
     "name": "stdout",
     "output_type": "stream",
     "text": [
      "CPU times: user 63 µs, sys: 6 µs, total: 69 µs\n",
      "Wall time: 73.4 µs\n"
     ]
    }
   ],
   "source": [
    "%%time\n",
    "c1 = db.get_collection('autores').find({\"_id\":\"A Ozuna\"},{\"publications\":1})"
   ]
  },
  {
   "cell_type": "code",
   "execution_count": 10,
   "metadata": {},
   "outputs": [
    {
     "name": "stdout",
     "output_type": "stream",
     "text": [
      "[{'_id': 'A Ozuna', 'publications': ['journals/bioinformatics/OzunaLJAN20']}]\n"
     ]
    }
   ],
   "source": [
    "print(list(c1))"
   ]
  },
  {
   "cell_type": "markdown",
   "metadata": {},
   "source": [
    "### C2"
   ]
  },
  {
   "cell_type": "markdown",
   "metadata": {},
   "source": [
    "Número de publicaciones de un autor determinado"
   ]
  },
  {
   "cell_type": "code",
   "execution_count": 49,
   "metadata": {},
   "outputs": [],
   "source": [
    "pipeline_c2 = [{\"$match\":{\"_id\":\"(Max) Zong-Ming Cheng\"}},\n",
    "               {\"$project\": {\"number_publications\":{\"$size\":\"$publications\"}}}]"
   ]
  },
  {
   "cell_type": "code",
   "execution_count": 52,
   "metadata": {},
   "outputs": [
    {
     "name": "stdout",
     "output_type": "stream",
     "text": [
      "CPU times: user 1.19 ms, sys: 110 µs, total: 1.3 ms\n",
      "Wall time: 935 µs\n"
     ]
    }
   ],
   "source": [
    "%%time\n",
    "c2 = db.autores.aggregate(pipeline_c2)"
   ]
  },
  {
   "cell_type": "code",
   "execution_count": 51,
   "metadata": {
    "scrolled": true
   },
   "outputs": [
    {
     "name": "stdout",
     "output_type": "stream",
     "text": [
      "[{'_id': '(Max) Zong-Ming Cheng', 'number_publications': 2}]\n"
     ]
    }
   ],
   "source": [
    "print(list(c2))"
   ]
  },
  {
   "cell_type": "markdown",
   "metadata": {},
   "source": [
    "### C3"
   ]
  },
  {
   "cell_type": "markdown",
   "metadata": {},
   "source": [
    "Número de artículos en revista para el año 2018"
   ]
  },
  {
   "cell_type": "code",
   "execution_count": 25,
   "metadata": {},
   "outputs": [],
   "source": [
    "pipeline_c3 = [\n",
    "    {\"$match\":{\"$and\":[{\"year\":\"2018\"}, {\"type\":\"article\"}]}},\n",
    "    {\"$count\":\"number_articles_2018\"}\n",
    "]"
   ]
  },
  {
   "cell_type": "code",
   "execution_count": 26,
   "metadata": {},
   "outputs": [
    {
     "name": "stdout",
     "output_type": "stream",
     "text": [
      "CPU times: user 0 ns, sys: 3.57 ms, total: 3.57 ms\n",
      "Wall time: 1.1 s\n"
     ]
    }
   ],
   "source": [
    "%%time\n",
    "c3 = db.documentos.aggregate(pipeline_c3)"
   ]
  },
  {
   "cell_type": "code",
   "execution_count": 27,
   "metadata": {},
   "outputs": [
    {
     "name": "stdout",
     "output_type": "stream",
     "text": [
      "[{'number_articles_2018': 179805}]\n"
     ]
    }
   ],
   "source": [
    "print(list(c3))"
   ]
  },
  {
   "cell_type": "markdown",
   "metadata": {},
   "source": [
    "### C4"
   ]
  },
  {
   "cell_type": "code",
   "execution_count": 73,
   "metadata": {},
   "outputs": [],
   "source": [
    "pipeline_c4 = [\n",
    "    {\"$project\": {\"number_publications\":{\"$size\":\"$publications\"}}},\n",
    "    {\"$match\": {\"number_publications\":{\"$gte\":5}}},\n",
    "    {\"$count\": \"number_authors_with_5_or_more_publications\"}\n",
    "]"
   ]
  },
  {
   "cell_type": "code",
   "execution_count": 75,
   "metadata": {},
   "outputs": [
    {
     "name": "stdout",
     "output_type": "stream",
     "text": [
      "CPU times: user 1.76 ms, sys: 174 µs, total: 1.93 ms\n",
      "Wall time: 2.11 s\n"
     ]
    }
   ],
   "source": [
    "%%time\n",
    "c4 = db.autores.aggregate(pipeline_c4)"
   ]
  },
  {
   "cell_type": "code",
   "execution_count": 76,
   "metadata": {},
   "outputs": [
    {
     "name": "stdout",
     "output_type": "stream",
     "text": [
      "[{'number_authors_with_5_or_more_publications': 294192}]\n"
     ]
    }
   ],
   "source": [
    "print(list(c4))"
   ]
  },
  {
   "cell_type": "markdown",
   "metadata": {},
   "source": [
    "Check"
   ]
  },
  {
   "cell_type": "code",
   "execution_count": 90,
   "metadata": {},
   "outputs": [],
   "source": [
    "pipeline_c4 = [\n",
    "    {\"$project\": {\"number_publications\":{\"$size\":\"$publications\"}, \"publications\":1}},\n",
    "    {\"$match\": {\"number_publications\":{\"$gte\":5}}},\n",
    "    {\"$sample\": {\"size\": 2}}\n",
    "]"
   ]
  },
  {
   "cell_type": "code",
   "execution_count": 91,
   "metadata": {},
   "outputs": [
    {
     "name": "stdout",
     "output_type": "stream",
     "text": [
      "CPU times: user 1.77 ms, sys: 176 µs, total: 1.94 ms\n",
      "Wall time: 2.09 s\n"
     ]
    }
   ],
   "source": [
    "%%time\n",
    "c4 = db.autores.aggregate(pipeline_c4)"
   ]
  },
  {
   "cell_type": "code",
   "execution_count": 92,
   "metadata": {},
   "outputs": [
    {
     "name": "stdout",
     "output_type": "stream",
     "text": [
      "[{'_id': 'Fatemeh Jalali', 'publications': ['journals/pnc/HintonJM15', 'journals/sigmetrics/JalaliAVHAT14', 'journals/sj/JalaliZ20', 'journals/jsac/VishwanathJHAAT15', 'journals/jsac/JalaliHAAT16', 'journals/corr/abs-1808-05283', 'journals/mr/JalaliKE12', 'journals/mr/KhodadoustanJE11', 'journals/jsa/YousefpourFNKJN19'], 'number_publications': 9}, {'_id': 'Yun Shi', 'publications': ['journals/cea/ZhangZZWS19', 'journals/remotesensing/SheZWWS19', 'journals/remotesensing/DuanSSMIS15', 'journals/remotesensing/ZhaoSLHDS19', 'journals/remotesensing/JiZXSD18', 'journals/ivc/ShiJSYWSS15', 'journals/ijis/ShiNRK09', 'journals/isci/ShiRK07', 'journals/www/BiFCZYDS19', 'journals/ior/ShiCYL15', 'journals/access/LiuWGS19', 'journals/access/BiYZSXWZ18', 'journals/jors/CuiLLS17', 'journals/tgrs/YangSWZCZST07', 'journals/symmetry/LiLSWQL19', 'journals/tits/ShaoSZLS14', 'journals/tac/WuGLS19', 'journals/mmor/ShiLC17', 'journals/corr/abs-1709-05529', 'journals/ijgs/ShiGK13', 'journals/eor/CuiGSZ19', 'journals/fss/ShiGRK10', 'journals/fss/ShiGRK08', 'journals/jvis/BiYDS19', 'journals/phycomm/GuiSCSZL18', 'journals/sensors/ShiJSDS13', 'journals/sensors/ShiXPSL14', 'journals/sensors/YuSTYXLW17', 'journals/sensors/FanCZZSD17', 'journals/jco/ZhongS18', 'series/sfsc/ShiGR11', 'books/sp/13/LiSSSP13'], 'number_publications': 32}]\n"
     ]
    }
   ],
   "source": [
    "print(list(c4))"
   ]
  },
  {
   "cell_type": "markdown",
   "metadata": {},
   "source": [
    "### C5"
   ]
  },
  {
   "cell_type": "code",
   "execution_count": 143,
   "metadata": {},
   "outputs": [],
   "source": [
    "pipeline_c5 = [\n",
    "    {\"$match\": {\"_id\": {\"$ne\":None}}},\n",
    "    {\"$project\": {\"number_publications\":{\"$size\":\"$publications\"}, \"publications\":1}},\n",
    "    {\"$sort\": {\"number_publications\":-1}},\n",
    "    {\"$limit\": 10},\n",
    "    {\"$unwind\": \"$publications\"},\n",
    "    {\"$lookup\": {\"from\": \"documentos\",\n",
    "                \"localField\": \"publications\",\n",
    "                \"foreignField\": \"_id\",\n",
    "                \"as\": \"publication_info\"}},\n",
    "    {\"$match\": {\"$or\":[{\"publication_info.type\": \"article\"},\n",
    "                       {\"publication_info.type\": \"inproceedings\"}]}},\n",
    "    {\"$project\": {\"is_article\": {\"$cond\": [{\"$publication_info.type\":\"article\"},1,0]},\n",
    "                 \"is_inpro\": {\"$cond\": [{\"$publication_info.type\":\"inproceedings\"},1,0]}}},\n",
    "    {\"$group\": \"_id\",\n",
    "    \"number_articles\": {\"$sum\": \"$is_article\"},\n",
    "    \"number_inpro\": {\"$sum\": \"$is_inpro\"}}\n",
    "]"
   ]
  },
  {
   "cell_type": "code",
   "execution_count": 168,
   "metadata": {},
   "outputs": [],
   "source": [
    "pipeline_c5 = [\n",
    "    {\"$match\": {\"_id\": {\"$ne\":None}}},\n",
    "    {\"$project\": {\"number_publications\":{\"$size\":\"$publications\"}, \"publications\":1}},\n",
    "    {\"$sort\": {\"number_publications\":-1}},\n",
    "    {\"$limit\": 10},\n",
    "    {\"$unwind\": \"$publications\"},\n",
    "    {\"$lookup\": {\"from\": \"documentos\",\n",
    "                \"localField\": \"publications\",\n",
    "                \"foreignField\": \"_id\",\n",
    "                \"as\": \"publication_info\"}},\n",
    "\n",
    "    {\"$match\": {\"$or\":[{\"publication_info.type\": \"inproceedings\"}]}},\n",
    "    {\"$project\": {\"type\":\"$publication_info.type\"}},\n",
    "]\n"
   ]
  },
  {
   "cell_type": "code",
   "execution_count": 169,
   "metadata": {},
   "outputs": [
    {
     "name": "stdout",
     "output_type": "stream",
     "text": [
      "CPU times: user 2.1 ms, sys: 248 µs, total: 2.34 ms\n",
      "Wall time: 3.36 s\n"
     ]
    }
   ],
   "source": [
    "%%time\n",
    "c5 = db.autores.aggregate(pipeline_c5, allowDiskUse=True)"
   ]
  },
  {
   "cell_type": "code",
   "execution_count": 170,
   "metadata": {},
   "outputs": [
    {
     "name": "stdout",
     "output_type": "stream",
     "text": [
      "[]\n"
     ]
    }
   ],
   "source": [
    "print(list(c5))"
   ]
  },
  {
   "cell_type": "code",
   "execution_count": null,
   "metadata": {},
   "outputs": [],
   "source": []
  }
 ],
 "metadata": {
  "kernelspec": {
   "display_name": "Python 3",
   "language": "python",
   "name": "python3"
  },
  "language_info": {
   "codemirror_mode": {
    "name": "ipython",
    "version": 3
   },
   "file_extension": ".py",
   "mimetype": "text/x-python",
   "name": "python",
   "nbconvert_exporter": "python",
   "pygments_lexer": "ipython3",
   "version": "3.7.6"
  },
  "toc": {
   "base_numbering": 1,
   "nav_menu": {},
   "number_sections": true,
   "sideBar": true,
   "skip_h1_title": false,
   "title_cell": "Table of Contents",
   "title_sidebar": "Contents",
   "toc_cell": false,
   "toc_position": {},
   "toc_section_display": true,
   "toc_window_display": false
  }
 },
 "nbformat": 4,
 "nbformat_minor": 4
}
