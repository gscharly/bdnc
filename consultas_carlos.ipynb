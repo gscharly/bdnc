{
 "cells": [
  {
   "cell_type": "code",
   "execution_count": 1,
   "metadata": {},
   "outputs": [],
   "source": [
    "import pymongo"
   ]
  },
  {
   "cell_type": "code",
   "execution_count": 3,
   "metadata": {},
   "outputs": [
    {
     "data": {
      "text/plain": [
       "['BDClientes',\n",
       " 'BDPacientes',\n",
       " 'BDSuCasa',\n",
       " 'Provincias',\n",
       " 'admin',\n",
       " 'clasesabadoBD',\n",
       " 'config',\n",
       " 'local',\n",
       " 'practica',\n",
       " 'prueba']"
      ]
     },
     "execution_count": 3,
     "metadata": {},
     "output_type": "execute_result"
    }
   ],
   "source": [
    "# Conexión al servidor local de mongodb\n",
    "conex = pymongo.MongoClient()\n",
    "conex.list_database_names()"
   ]
  },
  {
   "cell_type": "code",
   "execution_count": 4,
   "metadata": {},
   "outputs": [],
   "source": [
    "# Conexión a la base de datos e inserción en la colección de documentos\n",
    "db = conex.practica"
   ]
  },
  {
   "cell_type": "code",
   "execution_count": 5,
   "metadata": {},
   "outputs": [
    {
     "data": {
      "text/plain": [
       "['autores', 'documentos']"
      ]
     },
     "execution_count": 5,
     "metadata": {},
     "output_type": "execute_result"
    }
   ],
   "source": [
    "db.list_collection_names()"
   ]
  },
  {
   "cell_type": "code",
   "execution_count": 6,
   "metadata": {},
   "outputs": [
    {
     "data": {
      "text/plain": [
       "2499367"
      ]
     },
     "execution_count": 6,
     "metadata": {},
     "output_type": "execute_result"
    }
   ],
   "source": [
    "db.get_collection('autores').estimated_document_count()"
   ]
  },
  {
   "cell_type": "code",
   "execution_count": 7,
   "metadata": {},
   "outputs": [
    {
     "data": {
      "text/plain": [
       "4868818"
      ]
     },
     "execution_count": 7,
     "metadata": {},
     "output_type": "execute_result"
    }
   ],
   "source": [
    "db.get_collection('documentos').estimated_document_count()"
   ]
  },
  {
   "cell_type": "markdown",
   "metadata": {},
   "source": [
    "### C1"
   ]
  },
  {
   "cell_type": "markdown",
   "metadata": {},
   "source": [
    "Listado de todas las publicaciones de un autor determinado"
   ]
  },
  {
   "cell_type": "code",
   "execution_count": 19,
   "metadata": {},
   "outputs": [],
   "source": [
    "author = \"A Ozuna\""
   ]
  },
  {
   "cell_type": "code",
   "execution_count": 31,
   "metadata": {},
   "outputs": [
    {
     "name": "stdout",
     "output_type": "stream",
     "text": [
      "CPU times: user 68 µs, sys: 9 µs, total: 77 µs\n",
      "Wall time: 79.9 µs\n"
     ]
    }
   ],
   "source": [
    "%%time\n",
    "c1 = db.get_collection('autores').find({\"_id\":author},{\"publications\":1})"
   ]
  },
  {
   "cell_type": "code",
   "execution_count": 32,
   "metadata": {},
   "outputs": [
    {
     "name": "stdout",
     "output_type": "stream",
     "text": [
      "El autor A Ozuna tiene las siguientes publicaciones: ['journals/bioinformatics/OzunaLJAN20']\n"
     ]
    }
   ],
   "source": [
    "print(\"El autor {} tiene las siguientes publicaciones: {}\".format(author, list(c1[0]['publications'])))"
   ]
  },
  {
   "cell_type": "markdown",
   "metadata": {},
   "source": [
    "### C2"
   ]
  },
  {
   "cell_type": "markdown",
   "metadata": {},
   "source": [
    "Número de publicaciones de un autor determinado"
   ]
  },
  {
   "cell_type": "code",
   "execution_count": 42,
   "metadata": {},
   "outputs": [],
   "source": [
    "author = \"(Max) Zong-Ming Cheng\""
   ]
  },
  {
   "cell_type": "code",
   "execution_count": 43,
   "metadata": {},
   "outputs": [],
   "source": [
    "pipeline_c2 = [{\"$match\":{\"_id\":author}},\n",
    "               {\"$project\": {\"number_publications\":{\"$size\":\"$publications\"}}}]"
   ]
  },
  {
   "cell_type": "code",
   "execution_count": 44,
   "metadata": {},
   "outputs": [
    {
     "name": "stdout",
     "output_type": "stream",
     "text": [
      "CPU times: user 0 ns, sys: 1.75 ms, total: 1.75 ms\n",
      "Wall time: 1.15 ms\n"
     ]
    }
   ],
   "source": [
    "%%time\n",
    "c2 = db.autores.aggregate(pipeline_c2)"
   ]
  },
  {
   "cell_type": "code",
   "execution_count": 45,
   "metadata": {},
   "outputs": [
    {
     "name": "stdout",
     "output_type": "stream",
     "text": [
      "El autor (Max) Zong-Ming Cheng tiene 2 publicaciones\n"
     ]
    }
   ],
   "source": [
    "print(\"El autor {} tiene {} publicaciones\".format(author, list(c2)[0]['number_publications']))"
   ]
  },
  {
   "cell_type": "markdown",
   "metadata": {},
   "source": [
    "### C3"
   ]
  },
  {
   "cell_type": "markdown",
   "metadata": {},
   "source": [
    "Número de artículos en revista para el año 2018"
   ]
  },
  {
   "cell_type": "code",
   "execution_count": 50,
   "metadata": {},
   "outputs": [],
   "source": [
    "pipeline_c3 = [\n",
    "    {\"$match\":{\"$and\":[{\"year\":\"2018\"}, {\"type\":\"article\"}]}},\n",
    "    {\"$count\":\"number_articles_2018\"}\n",
    "]"
   ]
  },
  {
   "cell_type": "code",
   "execution_count": 51,
   "metadata": {},
   "outputs": [
    {
     "name": "stdout",
     "output_type": "stream",
     "text": [
      "CPU times: user 2.97 ms, sys: 0 ns, total: 2.97 ms\n",
      "Wall time: 1.87 s\n"
     ]
    }
   ],
   "source": [
    "%%time\n",
    "c3 = db.documentos.aggregate(pipeline_c3)"
   ]
  },
  {
   "cell_type": "code",
   "execution_count": 53,
   "metadata": {},
   "outputs": [
    {
     "name": "stdout",
     "output_type": "stream",
     "text": [
      "Hay 179805 artículos en el año 2018\n"
     ]
    }
   ],
   "source": [
    "print(\"Hay {} artículos en el año 2018\".format(list(c3)[0]['number_articles_2018']))"
   ]
  },
  {
   "cell_type": "markdown",
   "metadata": {},
   "source": [
    "### C4"
   ]
  },
  {
   "cell_type": "markdown",
   "metadata": {},
   "source": [
    "Número de autores ocasionales, es decir, que tengan menos de 5 publicaciones en total."
   ]
  },
  {
   "cell_type": "code",
   "execution_count": 55,
   "metadata": {},
   "outputs": [],
   "source": [
    "pipeline_c4 = [\n",
    "    {\"$project\": {\"number_publications\":{\"$size\":\"$publications\"}}},\n",
    "    {\"$match\": {\"number_publications\":{\"$gte\":5}}},\n",
    "    {\"$count\": \"number_authors_with_5_or_more_publications\"}\n",
    "]"
   ]
  },
  {
   "cell_type": "code",
   "execution_count": 56,
   "metadata": {},
   "outputs": [
    {
     "name": "stdout",
     "output_type": "stream",
     "text": [
      "CPU times: user 4.39 ms, sys: 610 µs, total: 5 ms\n",
      "Wall time: 3.61 s\n"
     ]
    }
   ],
   "source": [
    "%%time\n",
    "c4 = db.autores.aggregate(pipeline_c4)"
   ]
  },
  {
   "cell_type": "code",
   "execution_count": 57,
   "metadata": {},
   "outputs": [
    {
     "name": "stdout",
     "output_type": "stream",
     "text": [
      "Hay 565192 autores con al menos 5 publicaciones\n"
     ]
    }
   ],
   "source": [
    "print(\"Hay {} autores con al menos 5 publicaciones\".format(list(c4)[0]['number_authors_with_5_or_more_publications']))"
   ]
  },
  {
   "cell_type": "code",
   "execution_count": 18,
   "metadata": {},
   "outputs": [
    {
     "name": "stdout",
     "output_type": "stream",
     "text": [
      "[{'number_authors_with_5_or_more_publications': 565192}]\n"
     ]
    }
   ],
   "source": [
    "print(list(c4))"
   ]
  },
  {
   "cell_type": "markdown",
   "metadata": {},
   "source": [
    "Check"
   ]
  },
  {
   "cell_type": "code",
   "execution_count": 58,
   "metadata": {},
   "outputs": [],
   "source": [
    "pipeline_c4 = [\n",
    "    {\"$project\": {\"number_publications\":{\"$size\":\"$publications\"}, \"publications\":1}},\n",
    "    {\"$match\": {\"number_publications\":{\"$gte\":5}}},\n",
    "    {\"$sample\": {\"size\": 2}}\n",
    "]"
   ]
  },
  {
   "cell_type": "code",
   "execution_count": 59,
   "metadata": {},
   "outputs": [
    {
     "name": "stdout",
     "output_type": "stream",
     "text": [
      "CPU times: user 66 µs, sys: 3.61 ms, total: 3.68 ms\n",
      "Wall time: 3.76 s\n"
     ]
    }
   ],
   "source": [
    "%%time\n",
    "c4 = db.autores.aggregate(pipeline_c4)"
   ]
  },
  {
   "cell_type": "code",
   "execution_count": 60,
   "metadata": {},
   "outputs": [
    {
     "name": "stdout",
     "output_type": "stream",
     "text": [
      "[{'_id': 'Li-Yeng Sung', 'publications': ['journals/jnma/BarkerBS11', 'journals/siamnum/BrennerLS08', 'journals/siamnum/BrennerGS18', 'journals/siamnum/BrennerGGS12', 'journals/siamnum/BrennerSZZ12', 'journals/siamnum/BrennerGSZ17', 'journals/siamnum/BrennerS06', 'journals/nla/BrennerCS09', 'journals/nla/BrennerPS13', 'journals/cmam/AntoniettiDBS12', 'journals/cmam/BrennerGS17', 'journals/cmam/BrennerCS19', 'journals/cmam/BrennerCCS18', 'journals/cma/BrennerLS17', 'journals/nm/BrennerNRS17', 'journals/nm/BrennerS99', 'journals/nm/BrennerOS18', 'journals/nm/BrennerLS14', 'journals/nm/BrennerCLS08', 'journals/nm/BrennerCGS11', 'journals/corr/abs-2001-10933', 'journals/corr/abs-2003-08504', 'journals/appml/BrennerS09', 'journals/jscic/BrennerDS18', 'journals/jscic/BrennerLS09', 'journals/jscic/BarkerBPS11', 'journals/jscic/BrennerS05', 'journals/jscic/BrennerSS17', 'journals/jscic/BrennerGS09', 'journals/jscic/BrennerGS13', 'journals/jscic/BrennerGOS10', 'journals/jscic/BrennerGS16', 'journals/moc/BrennerSZ12', 'journals/moc/BrennerS15', 'journals/moc/BrennerGNS11', 'journals/moc/BrennerCNS12', 'journals/moc/BrennerS00', 'journals/moc/BrennerLS07', 'journals/siamco/BrennerS17', 'journals/jcam/BrennerSZ19', 'journals/jcam/BrennerLS20', 'journals/jcam/BrennerOS12', 'journals/jcam/BrennerSZZ13', 'journals/jcam/BrennerDS14', 'journals/jcam/BrennerDS20', 'series/lncse/BarkerBPS13', 'series/lncse/BrennerGS13'], 'number_publications': 47}, {'_id': 'George Zacharioudakis', 'publications': ['journals/midm/SfakianakiKSIZG15', 'journals/netmahib/KoumakisSPSLZMZ15', 'conf/mobihealth/HristoskovaSZTT11', 'conf/ifip12/SfakianakisGHRWKZ09', 'conf/gpc/SfakianakisKZT09', 'conf/isda/ZacharioudakisKST09'], 'number_publications': 6}]\n"
     ]
    }
   ],
   "source": [
    "print(list(c4))"
   ]
  },
  {
   "cell_type": "markdown",
   "metadata": {},
   "source": [
    "### C5"
   ]
  },
  {
   "cell_type": "markdown",
   "metadata": {},
   "source": [
    "Número de artículos de revista (article) y número de artículos en congresos\n",
    "(inproceedings) de los diez autores con más publicaciones totales."
   ]
  },
  {
   "cell_type": "code",
   "execution_count": 191,
   "metadata": {},
   "outputs": [],
   "source": [
    "pipeline_c5 = [\n",
    "    {\"$match\": {\"_id\": {\"$ne\":None}}},\n",
    "    {\"$project\": {\"number_publications\":{\"$size\":\"$publications\"}, \"publications\":1}},\n",
    "    {\"$sort\": {\"number_publications\":-1}},\n",
    "    {\"$limit\": 10},\n",
    "    {\"$unwind\": \"$publications\"},\n",
    "    {\"$lookup\": {\"from\": \"documentos\",\n",
    "                \"localField\": \"publications\",\n",
    "                \"foreignField\": \"_id\",\n",
    "                \"as\": \"publication_info\"}},\n",
    "    {\"$match\": {\"$or\":[{\"publication_info.type\": \"article\"},\n",
    "                       {\"publication_info.type\": \"inproceedings\"}]}},\n",
    "    {\"$project\": {\"publication_type\": {\"$arrayElemAt\": [\"$publication_info.type\", 0]}}},\n",
    "    {\"$project\": {\"is_article\": {\"$cond\": [{\"$eq\": [\"$publication_type\",\"article\"]},1,0]}, \n",
    "                  \"is_inpro\": {\"$cond\": [{\"$eq\": [\"$publication_type\",\"inproceedings\"]},1,0]}}},\n",
    "    {\n",
    "        \"$group\":\n",
    "        {\n",
    "            \"_id\":\"$_id\",\n",
    "            \"number_articles\": {\"$sum\": \"$is_article\"},\n",
    "            \"number_inpro\": {\"$sum\": \"$is_inpro\"}\n",
    "        }\n",
    "    }   \n",
    "]"
   ]
  },
  {
   "cell_type": "code",
   "execution_count": 192,
   "metadata": {},
   "outputs": [
    {
     "name": "stdout",
     "output_type": "stream",
     "text": [
      "CPU times: user 1.72 ms, sys: 3.72 ms, total: 5.44 ms\n",
      "Wall time: 5.97 s\n"
     ]
    }
   ],
   "source": [
    "%%time\n",
    "c5 = db.autores.aggregate(pipeline_c5, allowDiskUse=True)"
   ]
  },
  {
   "cell_type": "code",
   "execution_count": 193,
   "metadata": {},
   "outputs": [
    {
     "name": "stdout",
     "output_type": "stream",
     "text": [
      "[{'_id': 'Mohamed-Slim Alouini', 'number_articles': 839, 'number_inpro': 624}, {'_id': 'Wei Zhang', 'number_articles': 641, 'number_inpro': 707}, {'_id': 'Victor C. M. Leung', 'number_articles': 639, 'number_inpro': 533}, {'_id': 'Wen Gao 0001', 'number_articles': 403, 'number_inpro': 803}, {'_id': 'Yu Zhang', 'number_articles': 557, 'number_inpro': 675}, {'_id': 'Lajos Hanzo', 'number_articles': 852, 'number_inpro': 418}, {'_id': 'Philip S. Yu', 'number_articles': 543, 'number_inpro': 825}, {'_id': 'Wei Wang', 'number_articles': 603, 'number_inpro': 719}, {'_id': 'Wei Li', 'number_articles': 592, 'number_inpro': 661}, {'_id': 'H. Vincent Poor', 'number_articles': 1277, 'number_inpro': 601}]\n"
     ]
    }
   ],
   "source": [
    "print(list(c5))"
   ]
  },
  {
   "cell_type": "markdown",
   "metadata": {},
   "source": [
    "### C6"
   ]
  },
  {
   "cell_type": "markdown",
   "metadata": {},
   "source": [
    "Número medio de autores de todas las publicaciones que tenga en su conjunto de datos"
   ]
  },
  {
   "cell_type": "code",
   "execution_count": 202,
   "metadata": {},
   "outputs": [],
   "source": [
    "pipeline_c6 = [\n",
    "    {\"$project\":\n",
    "     {\n",
    "         \"number_authors\": {\"$size\": \"$authors\"}\n",
    "     }\n",
    "    }, \n",
    "    {\"$group\":\n",
    "     {\n",
    "         \"_id\": 0,\n",
    "         \"avg_number_authors\": {\"$avg\": \"$number_authors\"}\n",
    "     }\n",
    "    }\n",
    "]"
   ]
  },
  {
   "cell_type": "code",
   "execution_count": 203,
   "metadata": {},
   "outputs": [
    {
     "name": "stdout",
     "output_type": "stream",
     "text": [
      "CPU times: user 4.91 ms, sys: 620 µs, total: 5.53 ms\n",
      "Wall time: 5.93 s\n"
     ]
    }
   ],
   "source": [
    "%%time\n",
    "c6 = db.documentos.aggregate(pipeline_c6)"
   ]
  },
  {
   "cell_type": "code",
   "execution_count": 204,
   "metadata": {},
   "outputs": [
    {
     "name": "stdout",
     "output_type": "stream",
     "text": [
      "[{'_id': 0, 'avg_number_authors': 3.0612990668371665}]\n"
     ]
    }
   ],
   "source": [
    "print(list(c6))"
   ]
  },
  {
   "cell_type": "markdown",
   "metadata": {},
   "source": [
    "### C7"
   ]
  },
  {
   "cell_type": "markdown",
   "metadata": {},
   "source": [
    "Listado de coautores de un autor (Se denomina coautor a cualquier persona que haya\n",
    "firmado una publicación)."
   ]
  },
  {
   "cell_type": "code",
   "execution_count": 212,
   "metadata": {},
   "outputs": [],
   "source": [
    "author = \"(Max) Zong-Ming Cheng\""
   ]
  },
  {
   "cell_type": "code",
   "execution_count": 248,
   "metadata": {},
   "outputs": [],
   "source": [
    "pipeline_c7 = [\n",
    "    {\"$match\":{\"_id\":author}},\n",
    "    {\"$project\": {\"publications\":1}},\n",
    "    {\"$unwind\": \"$publications\"},\n",
    "    {\"$lookup\": {\"from\": \"documentos\",\n",
    "                \"localField\": \"publications\",\n",
    "                \"foreignField\": \"_id\",\n",
    "                \"as\": \"publication_info\"}},\n",
    "    {\"$project\": {\"publication_authors\": {\"$arrayElemAt\": [\"$publication_info.authors\", 0]}}},\n",
    "    {\"$unwind\": \"$publication_authors\"},\n",
    "    {\"$match\": {\"publication_authors\": {\"$ne\":author}}},\n",
    "    {\n",
    "        \"$group\": {\n",
    "            \"_id\":\"$_id\",\n",
    "            \"coauthors\": {\"$addToSet\": \"$publication_authors\"}\n",
    "        } \n",
    "    }   \n",
    "]"
   ]
  },
  {
   "cell_type": "code",
   "execution_count": 249,
   "metadata": {},
   "outputs": [
    {
     "name": "stdout",
     "output_type": "stream",
     "text": [
      "CPU times: user 1.47 ms, sys: 192 µs, total: 1.66 ms\n",
      "Wall time: 1.22 ms\n"
     ]
    }
   ],
   "source": [
    "%%time\n",
    "c7 = db.autores.aggregate(pipeline_c7)"
   ]
  },
  {
   "cell_type": "code",
   "execution_count": 250,
   "metadata": {},
   "outputs": [
    {
     "name": "stdout",
     "output_type": "stream",
     "text": [
      "[{'_id': '(Max) Zong-Ming Cheng', 'coauthors': ['Douglas G. Hayes', 'Dandan Zhang', 'Xiaohan Yang', 'Mark Davis', 'Gerald A. Tuskan', 'Peng Gao', 'Joseph J. Bozell', 'Joshua S. Yuan', 'Kristen L. Reichel', 'Nathan R. Stewart', 'Robert W. Sykes', 'Zhanyou Xu', 'Jun Hu', 'Weibing Shi', 'Bin Cai', 'Ryan D. Syrenne', 'Xia Ye 0002', 'Crissa Doeppke', 'Xin Zhou', 'C. Neal Stewart Jr.', 'Nicole Labbe', 'Jason N. Burris']}]\n"
     ]
    }
   ],
   "source": [
    "print(list(c7))"
   ]
  },
  {
   "cell_type": "markdown",
   "metadata": {},
   "source": [
    "### C8"
   ]
  },
  {
   "cell_type": "markdown",
   "metadata": {},
   "source": [
    "Edad de los 5 autores con un periodo de publicaciones más largo (Se considera la Edad\n",
    "de un autor al número de años transcurridos desde la fecha de su primera publicación\n",
    "hasta la última registrada)."
   ]
  },
  {
   "cell_type": "code",
   "execution_count": 316,
   "metadata": {},
   "outputs": [
    {
     "data": {
      "text/plain": [
       "'year_1'"
      ]
     },
     "execution_count": 316,
     "metadata": {},
     "output_type": "execute_result"
    }
   ],
   "source": [
    "db.documentos.create_index('year')"
   ]
  },
  {
   "cell_type": "code",
   "execution_count": 317,
   "metadata": {},
   "outputs": [
    {
     "data": {
      "text/plain": [
       "[SON([('v', 2), ('key', SON([('_id', 1)])), ('name', '_id_'), ('ns', 'practica.documentos')]),\n",
       " SON([('v', 2), ('key', SON([('year', 1)])), ('name', 'year_1'), ('ns', 'practica.documentos')])]"
      ]
     },
     "execution_count": 317,
     "metadata": {},
     "output_type": "execute_result"
    }
   ],
   "source": [
    "list(db.documentos.list_indexes())"
   ]
  },
  {
   "cell_type": "code",
   "execution_count": 299,
   "metadata": {},
   "outputs": [
    {
     "data": {
      "text/plain": [
       "[SON([('v', 2), ('key', SON([('_id', 1)])), ('name', '_id_'), ('ns', 'practica.autores')])]"
      ]
     },
     "execution_count": 299,
     "metadata": {},
     "output_type": "execute_result"
    }
   ],
   "source": [
    "list(db.autores.list_indexes())"
   ]
  },
  {
   "cell_type": "code",
   "execution_count": 300,
   "metadata": {},
   "outputs": [],
   "source": [
    "pipeline_c8 = [\n",
    "    {\"$match\": {\"_id\": {\"$ne\":None}}},\n",
    "    {\"$project\": {\"publications\":1}},\n",
    "    {\"$unwind\": \"$publications\"},\n",
    "    {\"$lookup\": {\"from\": \"documentos\",\n",
    "                \"localField\": \"publications\",\n",
    "                \"foreignField\": \"_id\",\n",
    "                \"as\": \"publication_info\"}},\n",
    "    {\"$project\": {\"publication_year\": {\"$arrayElemAt\": [\"$publication_info.year\", 0]}}},\n",
    "    {\n",
    "        \"$group\": {\n",
    "            \"_id\": \"$_id\",\n",
    "            \"first_publication_year\": {\"$min\": \"$publication_year\"},\n",
    "            \"last_publication_year\": {\"$max\": \"$publication_year\"}\n",
    "        }\n",
    "    },\n",
    "    {\"$project\": \n",
    "     {\n",
    "        \"age\": {\"$subtract\": [\"$last_publication_year\", \"$first_publication_year\"]}\n",
    "     }\n",
    "    },\n",
    "    {\"$limit\":5}\n",
    "]"
   ]
  },
  {
   "cell_type": "code",
   "execution_count": 318,
   "metadata": {},
   "outputs": [],
   "source": [
    "# Cambiamos min max por sort y first, last (el otro no tira)\n",
    "pipeline_c8 = [\n",
    "    {\"$match\": {\"_id\": {\"$ne\":None}}},\n",
    "    {\"$project\": {\"publications\":1}},\n",
    "    {\"$unwind\": \"$publications\"},\n",
    "    {\"$lookup\": {\"from\": \"documentos\",\n",
    "                \"localField\": \"publications\",\n",
    "                \"foreignField\": \"_id\",\n",
    "                \"as\": \"publication_info\"}},\n",
    "    {\"$project\": {\"publication_year\": {\"$arrayElemAt\": [\"$publication_info.year\", 0]}}},\n",
    "    {\"$sort\": {\"publication_year\":1}},\n",
    "    {\n",
    "        \"$group\": {\n",
    "            \"_id\": \"$_id\",\n",
    "            \"first_publication_year\": {\"$first\": \"$publication_year\"},\n",
    "            \"last_publication_year\": {\"$last\": \"$publication_year\"}\n",
    "        }\n",
    "    },\n",
    "    {\"$project\": \n",
    "     {\n",
    "        \"age\": {\"$subtract\": [\"$last_publication_year\", \"$first_publication_year\"]}\n",
    "     }\n",
    "    },\n",
    "    {\"$sort\": {\"age\":-1}},\n",
    "    {\"$limit\":5}\n",
    "]"
   ]
  },
  {
   "cell_type": "code",
   "execution_count": 319,
   "metadata": {},
   "outputs": [
    {
     "ename": "KeyboardInterrupt",
     "evalue": "",
     "output_type": "error",
     "traceback": [
      "\u001b[0;31m---------------------------------------------------------------------------\u001b[0m",
      "\u001b[0;31mKeyboardInterrupt\u001b[0m                         Traceback (most recent call last)",
      "\u001b[0;32m<timed eval>\u001b[0m in \u001b[0;36m<module>\u001b[0;34m\u001b[0m\n",
      "\u001b[0;32m~/anaconda3/envs/nosql/lib/python3.7/site-packages/pymongo/collection.py\u001b[0m in \u001b[0;36maggregate\u001b[0;34m(self, pipeline, session, **kwargs)\u001b[0m\n\u001b[1;32m   2378\u001b[0m                                    \u001b[0msession\u001b[0m\u001b[0;34m=\u001b[0m\u001b[0ms\u001b[0m\u001b[0;34m,\u001b[0m\u001b[0;34m\u001b[0m\u001b[0;34m\u001b[0m\u001b[0m\n\u001b[1;32m   2379\u001b[0m                                    \u001b[0mexplicit_session\u001b[0m\u001b[0;34m=\u001b[0m\u001b[0msession\u001b[0m \u001b[0;32mis\u001b[0m \u001b[0;32mnot\u001b[0m \u001b[0;32mNone\u001b[0m\u001b[0;34m,\u001b[0m\u001b[0;34m\u001b[0m\u001b[0;34m\u001b[0m\u001b[0m\n\u001b[0;32m-> 2380\u001b[0;31m                                    **kwargs)\n\u001b[0m\u001b[1;32m   2381\u001b[0m \u001b[0;34m\u001b[0m\u001b[0m\n\u001b[1;32m   2382\u001b[0m     \u001b[0;32mdef\u001b[0m \u001b[0maggregate_raw_batches\u001b[0m\u001b[0;34m(\u001b[0m\u001b[0mself\u001b[0m\u001b[0;34m,\u001b[0m \u001b[0mpipeline\u001b[0m\u001b[0;34m,\u001b[0m \u001b[0;34m**\u001b[0m\u001b[0mkwargs\u001b[0m\u001b[0;34m)\u001b[0m\u001b[0;34m:\u001b[0m\u001b[0;34m\u001b[0m\u001b[0;34m\u001b[0m\u001b[0m\n",
      "\u001b[0;32m~/anaconda3/envs/nosql/lib/python3.7/site-packages/pymongo/collection.py\u001b[0m in \u001b[0;36m_aggregate\u001b[0;34m(self, aggregation_command, pipeline, cursor_class, session, explicit_session, **kwargs)\u001b[0m\n\u001b[1;32m   2297\u001b[0m         return self.__database.client._retryable_read(\n\u001b[1;32m   2298\u001b[0m             \u001b[0mcmd\u001b[0m\u001b[0;34m.\u001b[0m\u001b[0mget_cursor\u001b[0m\u001b[0;34m,\u001b[0m \u001b[0mcmd\u001b[0m\u001b[0;34m.\u001b[0m\u001b[0mget_read_preference\u001b[0m\u001b[0;34m(\u001b[0m\u001b[0msession\u001b[0m\u001b[0;34m)\u001b[0m\u001b[0;34m,\u001b[0m \u001b[0msession\u001b[0m\u001b[0;34m,\u001b[0m\u001b[0;34m\u001b[0m\u001b[0;34m\u001b[0m\u001b[0m\n\u001b[0;32m-> 2299\u001b[0;31m             retryable=not cmd._performs_write)\n\u001b[0m\u001b[1;32m   2300\u001b[0m \u001b[0;34m\u001b[0m\u001b[0m\n\u001b[1;32m   2301\u001b[0m     \u001b[0;32mdef\u001b[0m \u001b[0maggregate\u001b[0m\u001b[0;34m(\u001b[0m\u001b[0mself\u001b[0m\u001b[0;34m,\u001b[0m \u001b[0mpipeline\u001b[0m\u001b[0;34m,\u001b[0m \u001b[0msession\u001b[0m\u001b[0;34m=\u001b[0m\u001b[0;32mNone\u001b[0m\u001b[0;34m,\u001b[0m \u001b[0;34m**\u001b[0m\u001b[0mkwargs\u001b[0m\u001b[0;34m)\u001b[0m\u001b[0;34m:\u001b[0m\u001b[0;34m\u001b[0m\u001b[0;34m\u001b[0m\u001b[0m\n",
      "\u001b[0;32m~/anaconda3/envs/nosql/lib/python3.7/site-packages/pymongo/mongo_client.py\u001b[0m in \u001b[0;36m_retryable_read\u001b[0;34m(self, func, read_pref, session, address, retryable, exhaust)\u001b[0m\n\u001b[1;32m   1462\u001b[0m                         \u001b[0;31m# not support retryable reads, raise the last error.\u001b[0m\u001b[0;34m\u001b[0m\u001b[0;34m\u001b[0m\u001b[0;34m\u001b[0m\u001b[0m\n\u001b[1;32m   1463\u001b[0m                         \u001b[0;32mraise\u001b[0m \u001b[0mlast_error\u001b[0m\u001b[0;34m\u001b[0m\u001b[0;34m\u001b[0m\u001b[0m\n\u001b[0;32m-> 1464\u001b[0;31m                     \u001b[0;32mreturn\u001b[0m \u001b[0mfunc\u001b[0m\u001b[0;34m(\u001b[0m\u001b[0msession\u001b[0m\u001b[0;34m,\u001b[0m \u001b[0mserver\u001b[0m\u001b[0;34m,\u001b[0m \u001b[0msock_info\u001b[0m\u001b[0;34m,\u001b[0m \u001b[0mslave_ok\u001b[0m\u001b[0;34m)\u001b[0m\u001b[0;34m\u001b[0m\u001b[0;34m\u001b[0m\u001b[0m\n\u001b[0m\u001b[1;32m   1465\u001b[0m             \u001b[0;32mexcept\u001b[0m \u001b[0mServerSelectionTimeoutError\u001b[0m\u001b[0;34m:\u001b[0m\u001b[0;34m\u001b[0m\u001b[0;34m\u001b[0m\u001b[0m\n\u001b[1;32m   1466\u001b[0m                 \u001b[0;32mif\u001b[0m \u001b[0mretrying\u001b[0m\u001b[0;34m:\u001b[0m\u001b[0;34m\u001b[0m\u001b[0;34m\u001b[0m\u001b[0m\n",
      "\u001b[0;32m~/anaconda3/envs/nosql/lib/python3.7/site-packages/pymongo/aggregation.py\u001b[0m in \u001b[0;36mget_cursor\u001b[0;34m(self, session, server, sock_info, slave_ok)\u001b[0m\n\u001b[1;32m    146\u001b[0m             \u001b[0msession\u001b[0m\u001b[0;34m=\u001b[0m\u001b[0msession\u001b[0m\u001b[0;34m,\u001b[0m\u001b[0;34m\u001b[0m\u001b[0;34m\u001b[0m\u001b[0m\n\u001b[1;32m    147\u001b[0m             \u001b[0mclient\u001b[0m\u001b[0;34m=\u001b[0m\u001b[0mself\u001b[0m\u001b[0;34m.\u001b[0m\u001b[0m_database\u001b[0m\u001b[0;34m.\u001b[0m\u001b[0mclient\u001b[0m\u001b[0;34m,\u001b[0m\u001b[0;34m\u001b[0m\u001b[0;34m\u001b[0m\u001b[0m\n\u001b[0;32m--> 148\u001b[0;31m             user_fields=self._user_fields)\n\u001b[0m\u001b[1;32m    149\u001b[0m \u001b[0;34m\u001b[0m\u001b[0m\n\u001b[1;32m    150\u001b[0m         \u001b[0mself\u001b[0m\u001b[0;34m.\u001b[0m\u001b[0m_process_result\u001b[0m\u001b[0;34m(\u001b[0m\u001b[0mresult\u001b[0m\u001b[0;34m,\u001b[0m \u001b[0msession\u001b[0m\u001b[0;34m,\u001b[0m \u001b[0mserver\u001b[0m\u001b[0;34m,\u001b[0m \u001b[0msock_info\u001b[0m\u001b[0;34m,\u001b[0m \u001b[0mslave_ok\u001b[0m\u001b[0;34m)\u001b[0m\u001b[0;34m\u001b[0m\u001b[0;34m\u001b[0m\u001b[0m\n",
      "\u001b[0;32m~/anaconda3/envs/nosql/lib/python3.7/site-packages/pymongo/pool.py\u001b[0m in \u001b[0;36mcommand\u001b[0;34m(self, dbname, spec, slave_ok, read_preference, codec_options, check, allowable_errors, check_keys, read_concern, write_concern, parse_write_concern_error, collation, session, client, retryable_write, publish_events, user_fields)\u001b[0m\n\u001b[1;32m    616\u001b[0m         \u001b[0;31m# Catch socket.error, KeyboardInterrupt, etc. and close ourselves.\u001b[0m\u001b[0;34m\u001b[0m\u001b[0;34m\u001b[0m\u001b[0;34m\u001b[0m\u001b[0m\n\u001b[1;32m    617\u001b[0m         \u001b[0;32mexcept\u001b[0m \u001b[0mBaseException\u001b[0m \u001b[0;32mas\u001b[0m \u001b[0merror\u001b[0m\u001b[0;34m:\u001b[0m\u001b[0;34m\u001b[0m\u001b[0;34m\u001b[0m\u001b[0m\n\u001b[0;32m--> 618\u001b[0;31m             \u001b[0mself\u001b[0m\u001b[0;34m.\u001b[0m\u001b[0m_raise_connection_failure\u001b[0m\u001b[0;34m(\u001b[0m\u001b[0merror\u001b[0m\u001b[0;34m)\u001b[0m\u001b[0;34m\u001b[0m\u001b[0;34m\u001b[0m\u001b[0m\n\u001b[0m\u001b[1;32m    619\u001b[0m \u001b[0;34m\u001b[0m\u001b[0m\n\u001b[1;32m    620\u001b[0m     \u001b[0;32mdef\u001b[0m \u001b[0msend_message\u001b[0m\u001b[0;34m(\u001b[0m\u001b[0mself\u001b[0m\u001b[0;34m,\u001b[0m \u001b[0mmessage\u001b[0m\u001b[0;34m,\u001b[0m \u001b[0mmax_doc_size\u001b[0m\u001b[0;34m)\u001b[0m\u001b[0;34m:\u001b[0m\u001b[0;34m\u001b[0m\u001b[0;34m\u001b[0m\u001b[0m\n",
      "\u001b[0;32m~/anaconda3/envs/nosql/lib/python3.7/site-packages/pymongo/pool.py\u001b[0m in \u001b[0;36mcommand\u001b[0;34m(self, dbname, spec, slave_ok, read_preference, codec_options, check, allowable_errors, check_keys, read_concern, write_concern, parse_write_concern_error, collation, session, client, retryable_write, publish_events, user_fields)\u001b[0m\n\u001b[1;32m    611\u001b[0m                            \u001b[0muse_op_msg\u001b[0m\u001b[0;34m=\u001b[0m\u001b[0mself\u001b[0m\u001b[0;34m.\u001b[0m\u001b[0mop_msg_enabled\u001b[0m\u001b[0;34m,\u001b[0m\u001b[0;34m\u001b[0m\u001b[0;34m\u001b[0m\u001b[0m\n\u001b[1;32m    612\u001b[0m                            \u001b[0munacknowledged\u001b[0m\u001b[0;34m=\u001b[0m\u001b[0munacknowledged\u001b[0m\u001b[0;34m,\u001b[0m\u001b[0;34m\u001b[0m\u001b[0;34m\u001b[0m\u001b[0m\n\u001b[0;32m--> 613\u001b[0;31m                            user_fields=user_fields)\n\u001b[0m\u001b[1;32m    614\u001b[0m         \u001b[0;32mexcept\u001b[0m \u001b[0mOperationFailure\u001b[0m\u001b[0;34m:\u001b[0m\u001b[0;34m\u001b[0m\u001b[0;34m\u001b[0m\u001b[0m\n\u001b[1;32m    615\u001b[0m             \u001b[0;32mraise\u001b[0m\u001b[0;34m\u001b[0m\u001b[0;34m\u001b[0m\u001b[0m\n",
      "\u001b[0;32m~/anaconda3/envs/nosql/lib/python3.7/site-packages/pymongo/network.py\u001b[0m in \u001b[0;36mcommand\u001b[0;34m(sock, dbname, spec, slave_ok, is_mongos, read_preference, codec_options, session, client, check, allowable_errors, address, check_keys, listeners, max_bson_size, read_concern, parse_write_concern_error, collation, compression_ctx, use_op_msg, unacknowledged, user_fields)\u001b[0m\n\u001b[1;32m    155\u001b[0m             \u001b[0mresponse_doc\u001b[0m \u001b[0;34m=\u001b[0m \u001b[0;34m{\u001b[0m\u001b[0;34m\"ok\"\u001b[0m\u001b[0;34m:\u001b[0m \u001b[0;36m1\u001b[0m\u001b[0;34m}\u001b[0m\u001b[0;34m\u001b[0m\u001b[0;34m\u001b[0m\u001b[0m\n\u001b[1;32m    156\u001b[0m         \u001b[0;32melse\u001b[0m\u001b[0;34m:\u001b[0m\u001b[0;34m\u001b[0m\u001b[0;34m\u001b[0m\u001b[0m\n\u001b[0;32m--> 157\u001b[0;31m             \u001b[0mreply\u001b[0m \u001b[0;34m=\u001b[0m \u001b[0mreceive_message\u001b[0m\u001b[0;34m(\u001b[0m\u001b[0msock\u001b[0m\u001b[0;34m,\u001b[0m \u001b[0mrequest_id\u001b[0m\u001b[0;34m)\u001b[0m\u001b[0;34m\u001b[0m\u001b[0;34m\u001b[0m\u001b[0m\n\u001b[0m\u001b[1;32m    158\u001b[0m             unpacked_docs = reply.unpack_response(\n\u001b[1;32m    159\u001b[0m                 codec_options=codec_options, user_fields=user_fields)\n",
      "\u001b[0;32m~/anaconda3/envs/nosql/lib/python3.7/site-packages/pymongo/network.py\u001b[0m in \u001b[0;36mreceive_message\u001b[0;34m(sock, request_id, max_message_size)\u001b[0m\n\u001b[1;32m    194\u001b[0m     \u001b[0;31m# Ignore the response's request id.\u001b[0m\u001b[0;34m\u001b[0m\u001b[0;34m\u001b[0m\u001b[0;34m\u001b[0m\u001b[0m\n\u001b[1;32m    195\u001b[0m     length, _, response_to, op_code = _UNPACK_HEADER(\n\u001b[0;32m--> 196\u001b[0;31m         _receive_data_on_socket(sock, 16))\n\u001b[0m\u001b[1;32m    197\u001b[0m     \u001b[0;31m# No request_id for exhaust cursor \"getMore\".\u001b[0m\u001b[0;34m\u001b[0m\u001b[0;34m\u001b[0m\u001b[0;34m\u001b[0m\u001b[0m\n\u001b[1;32m    198\u001b[0m     \u001b[0;32mif\u001b[0m \u001b[0mrequest_id\u001b[0m \u001b[0;32mis\u001b[0m \u001b[0;32mnot\u001b[0m \u001b[0;32mNone\u001b[0m\u001b[0;34m:\u001b[0m\u001b[0;34m\u001b[0m\u001b[0;34m\u001b[0m\u001b[0m\n",
      "\u001b[0;32m~/anaconda3/envs/nosql/lib/python3.7/site-packages/pymongo/network.py\u001b[0m in \u001b[0;36m_receive_data_on_socket\u001b[0;34m(sock, length)\u001b[0m\n\u001b[1;32m    253\u001b[0m         \u001b[0;32mwhile\u001b[0m \u001b[0mbytes_read\u001b[0m \u001b[0;34m<\u001b[0m \u001b[0mlength\u001b[0m\u001b[0;34m:\u001b[0m\u001b[0;34m\u001b[0m\u001b[0;34m\u001b[0m\u001b[0m\n\u001b[1;32m    254\u001b[0m             \u001b[0;32mtry\u001b[0m\u001b[0;34m:\u001b[0m\u001b[0;34m\u001b[0m\u001b[0;34m\u001b[0m\u001b[0m\n\u001b[0;32m--> 255\u001b[0;31m                 \u001b[0mchunk_length\u001b[0m \u001b[0;34m=\u001b[0m \u001b[0msock\u001b[0m\u001b[0;34m.\u001b[0m\u001b[0mrecv_into\u001b[0m\u001b[0;34m(\u001b[0m\u001b[0mmv\u001b[0m\u001b[0;34m[\u001b[0m\u001b[0mbytes_read\u001b[0m\u001b[0;34m:\u001b[0m\u001b[0;34m]\u001b[0m\u001b[0;34m)\u001b[0m\u001b[0;34m\u001b[0m\u001b[0;34m\u001b[0m\u001b[0m\n\u001b[0m\u001b[1;32m    256\u001b[0m             \u001b[0;32mexcept\u001b[0m \u001b[0;34m(\u001b[0m\u001b[0mIOError\u001b[0m\u001b[0;34m,\u001b[0m \u001b[0mOSError\u001b[0m\u001b[0;34m)\u001b[0m \u001b[0;32mas\u001b[0m \u001b[0mexc\u001b[0m\u001b[0;34m:\u001b[0m\u001b[0;34m\u001b[0m\u001b[0;34m\u001b[0m\u001b[0m\n\u001b[1;32m    257\u001b[0m                 \u001b[0;32mif\u001b[0m \u001b[0m_errno_from_exception\u001b[0m\u001b[0;34m(\u001b[0m\u001b[0mexc\u001b[0m\u001b[0;34m)\u001b[0m \u001b[0;34m==\u001b[0m \u001b[0merrno\u001b[0m\u001b[0;34m.\u001b[0m\u001b[0mEINTR\u001b[0m\u001b[0;34m:\u001b[0m\u001b[0;34m\u001b[0m\u001b[0;34m\u001b[0m\u001b[0m\n",
      "\u001b[0;31mKeyboardInterrupt\u001b[0m: "
     ]
    }
   ],
   "source": [
    "%%time\n",
    "db.autores.aggregate(pipeline_c8, allowDiskUse=True)"
   ]
  },
  {
   "cell_type": "code",
   "execution_count": 290,
   "metadata": {},
   "outputs": [
    {
     "name": "stdout",
     "output_type": "stream",
     "text": [
      "[{'_id': '\"Johann\" Sebastian Rudolph', 'publication_year': '2019'}, {'_id': \"'Anau Mesui\", 'publication_year': '2019'}, {'_id': \"'Maseka Lesaoana\", 'publication_year': '2001'}, {'_id': \"'Maseka Lesaoana\", 'publication_year': '2015'}, {'_id': \"'Niran Adetoro\", 'publication_year': '2019'}]\n"
     ]
    }
   ],
   "source": [
    "print(list(c8)[:10])"
   ]
  },
  {
   "cell_type": "markdown",
   "metadata": {},
   "source": [
    "### C9"
   ]
  },
  {
   "cell_type": "markdown",
   "metadata": {},
   "source": [
    "Número de autores novatos, es decir, que tengan una Edad menor de 5 años. Se\n",
    "considera la Edad de un autor al número de años transcurridos desde la fecha de su\n",
    "primera publicación hasta la última registrada."
   ]
  },
  {
   "cell_type": "markdown",
   "metadata": {},
   "source": [
    "Y si creamos primero una colección que sea la edad de cada autor?"
   ]
  },
  {
   "cell_type": "code",
   "execution_count": null,
   "metadata": {},
   "outputs": [],
   "source": [
    "pipeline_c9 = [\n",
    "    {\"$match\": {\"_id\": {\"$ne\":None}}},\n",
    "    {\"$project\": {\"publications\":1}},\n",
    "    {\"$unwind\": \"$publications\"},\n",
    "    {\"$lookup\": {\"from\": \"documentos\",\n",
    "                \"localField\": \"publications\",\n",
    "                \"foreignField\": \"_id\",\n",
    "                \"as\": \"publication_info\"}},\n",
    "    {\"$project\": {\"publication_year\": {\"$arrayElemAt\": [\"$publication_info.year\", 0]}}},\n",
    "    {\n",
    "        \"$group\": {\n",
    "            \"_id\": \"$_id\",\n",
    "            \"first_publication_year\": {\"$min\": \"$publication_year\"},\n",
    "            \"last_publication_year\": {\"$max\": \"$publication_year\"}\n",
    "        }\n",
    "    },\n",
    "    {\"$project\": \n",
    "     {\n",
    "        \"age\": {\"$subtract\": [\"$last_publication_year\", \"$first_publication_year\"]}\n",
    "     }\n",
    "    },\n",
    "    {\"$match\": {\"age\": {\"$lt\": 5}}},\n",
    "    {\"$count\": \"number_authors_with_less_than_5_years\"}\n",
    "]"
   ]
  },
  {
   "cell_type": "code",
   "execution_count": null,
   "metadata": {},
   "outputs": [],
   "source": [
    "%%time\n",
    "c9 = db.autores.aggregate(pipeline_c9, allowDiskUse=True)"
   ]
  },
  {
   "cell_type": "code",
   "execution_count": null,
   "metadata": {},
   "outputs": [],
   "source": [
    "print(list(c9))"
   ]
  },
  {
   "cell_type": "markdown",
   "metadata": {},
   "source": [
    "### C10"
   ]
  },
  {
   "cell_type": "markdown",
   "metadata": {},
   "source": [
    "Porcentaje de publicaciones en revistas con respecto al total de publicaciones."
   ]
  },
  {
   "cell_type": "code",
   "execution_count": 307,
   "metadata": {},
   "outputs": [],
   "source": [
    "pipeline_c10 = [\n",
    "    {\"$project\": {\"is_article\": {\"$cond\": [{\"$eq\": [\"$type\", \"article\"]},1,0]}}},\n",
    "    {\n",
    "        \"$group\": \n",
    "        {\n",
    "            \"_id\": 0,\n",
    "            \"number_articles\": {\"$sum\": \"$is_article\"},\n",
    "            \"total_number_publications\": {\"$sum\": 1}\n",
    "        }\n",
    "    },\n",
    "    {\"$project\":{\"perc_articles\": {\"$divide\": [\"$number_articles\", \"$total_number_publications\"]}}},\n",
    "    {\"$project\": {\"perc_articles_100\": {\"$multiply\": [\"$perc_articles\", 100]}}}\n",
    "    \n",
    "]"
   ]
  },
  {
   "cell_type": "code",
   "execution_count": 308,
   "metadata": {},
   "outputs": [
    {
     "name": "stdout",
     "output_type": "stream",
     "text": [
      "CPU times: user 2.55 ms, sys: 0 ns, total: 2.55 ms\n",
      "Wall time: 4.54 s\n"
     ]
    }
   ],
   "source": [
    "%%time\n",
    "c10 = db.documentos.aggregate(pipeline_c10)"
   ]
  },
  {
   "cell_type": "code",
   "execution_count": 309,
   "metadata": {},
   "outputs": [
    {
     "name": "stdout",
     "output_type": "stream",
     "text": [
      "[{'_id': 0, 'perc_articles_100': 45.89996997217805}]\n"
     ]
    }
   ],
   "source": [
    "print(list(c10))"
   ]
  },
  {
   "cell_type": "code",
   "execution_count": null,
   "metadata": {},
   "outputs": [],
   "source": []
  }
 ],
 "metadata": {
  "kernelspec": {
   "display_name": "Python 3",
   "language": "python",
   "name": "python3"
  },
  "language_info": {
   "codemirror_mode": {
    "name": "ipython",
    "version": 3
   },
   "file_extension": ".py",
   "mimetype": "text/x-python",
   "name": "python",
   "nbconvert_exporter": "python",
   "pygments_lexer": "ipython3",
   "version": "3.7.6"
  },
  "toc": {
   "base_numbering": 1,
   "nav_menu": {},
   "number_sections": true,
   "sideBar": true,
   "skip_h1_title": false,
   "title_cell": "Table of Contents",
   "title_sidebar": "Contents",
   "toc_cell": false,
   "toc_position": {},
   "toc_section_display": true,
   "toc_window_display": false
  }
 },
 "nbformat": 4,
 "nbformat_minor": 4
}
