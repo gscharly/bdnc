{
 "cells": [
  {
   "cell_type": "code",
   "execution_count": 2,
   "metadata": {},
   "outputs": [],
   "source": [
    "import json\n",
    "import pymongo\n",
    "from bson.objectid import ObjectId\n",
    "from tqdm import tqdm "
   ]
  },
  {
   "cell_type": "code",
   "execution_count": 3,
   "metadata": {},
   "outputs": [],
   "source": [
    "# Cargamos el fichero json de documentos\n",
    "with open('./dblp.json') as json_file:\n",
    "    json_documents = json.load(json_file)"
   ]
  },
  {
   "cell_type": "code",
   "execution_count": 4,
   "metadata": {},
   "outputs": [
    {
     "data": {
      "text/plain": [
       "2295473"
      ]
     },
     "execution_count": 4,
     "metadata": {},
     "output_type": "execute_result"
    }
   ],
   "source": [
    "# Comprobación del número de documentos de la base de datos\n",
    "len(json_documents)"
   ]
  },
  {
   "cell_type": "code",
   "execution_count": 5,
   "metadata": {},
   "outputs": [
    {
     "data": {
      "text/plain": [
       "['BDClientes',\n",
       " 'BDPacientes',\n",
       " 'BDSuCasa',\n",
       " 'Provincias',\n",
       " 'admin',\n",
       " 'clasesabadoBD',\n",
       " 'config',\n",
       " 'local',\n",
       " 'practica',\n",
       " 'prueba']"
      ]
     },
     "execution_count": 5,
     "metadata": {},
     "output_type": "execute_result"
    }
   ],
   "source": [
    "# Conexión al servidor local de mongodb\n",
    "conex = pymongo.MongoClient()\n",
    "conex.list_database_names()"
   ]
  },
  {
   "cell_type": "code",
   "execution_count": 6,
   "metadata": {},
   "outputs": [
    {
     "name": "stderr",
     "output_type": "stream",
     "text": [
      "100%|██████████| 2295473/2295473 [12:56<00:00, 2956.26it/s]\n"
     ]
    }
   ],
   "source": [
    "# Conexión a la base de datos e inserción en la colección de documentos\n",
    "db = conex.DBPractica\n",
    "for k, v in tqdm(json_documents.items()):\n",
    "    db.documentos.insert_one(v)"
   ]
  },
  {
   "cell_type": "code",
   "execution_count": 7,
   "metadata": {},
   "outputs": [
    {
     "data": {
      "text/plain": [
       "['documentos']"
      ]
     },
     "execution_count": 7,
     "metadata": {},
     "output_type": "execute_result"
    }
   ],
   "source": [
    "db.list_collection_names()"
   ]
  },
  {
   "cell_type": "code",
   "execution_count": 8,
   "metadata": {},
   "outputs": [
    {
     "data": {
      "text/plain": [
       "{'_id': ObjectId('5e8620457ca34ff79f77e363'),\n",
       " 'authors': ['Paul Kocher',\n",
       "  'Daniel Genkin',\n",
       "  'Daniel Gruss',\n",
       "  'Werner Haas',\n",
       "  'Mike Hamburg',\n",
       "  'Moritz Lipp',\n",
       "  'Stefan Mangard',\n",
       "  'Thomas Prescher 0002',\n",
       "  'Michael Schwarz 0001',\n",
       "  'Yuval Yarom'],\n",
       " 'title': 'Spectre Attacks: Exploiting Speculative Execution.',\n",
       " 'year': '2018',\n",
       " 'type': 'article'}"
      ]
     },
     "execution_count": 8,
     "metadata": {},
     "output_type": "execute_result"
    }
   ],
   "source": [
    "# Ejemplo de documento de la colección documentos\n",
    "db.documentos.find_one()"
   ]
  },
  {
   "cell_type": "code",
   "execution_count": 12,
   "metadata": {},
   "outputs": [
    {
     "data": {
      "text/plain": [
       "<pymongo.command_cursor.CommandCursor at 0x1a9d1add0>"
      ]
     },
     "execution_count": 12,
     "metadata": {},
     "output_type": "execute_result"
    }
   ],
   "source": [
    "# Creación de la colección de autores\n",
    "pipeline_authors_collection = [{\"$unwind\": \"$authors\"}, {\"$group\": {\"_id\": \"$authors\", \"publications\": {\"$push\": \"$_id\"}}}, {'$out': \"autores\"}]\n",
    "db.documentos.aggregate(pipeline_authors_collection,  allowDiskUse = True)"
   ]
  },
  {
   "cell_type": "code",
   "execution_count": 13,
   "metadata": {},
   "outputs": [
    {
     "name": "stdout",
     "output_type": "stream",
     "text": [
      "{'_id': 'Frédérick Shic', 'publications': [ObjectId('5e8507c1af38ab1597d64707')]}\n",
      "{'_id': 'Sumeet Kumar Sharma', 'publications': [ObjectId('5e850a48af38ab1597f43fff')]}\n",
      "{'_id': 'Amélia Ramos', 'publications': [ObjectId('5e850a21af38ab1597f2628e')]}\n",
      "{'_id': 'Ali Imam Sunny', 'publications': [ObjectId('5e850a21af38ab1597f25ab2'), ObjectId('5e850a23af38ab1597f27029')]}\n",
      "{'_id': 'Levent Kargin', 'publications': [ObjectId('5e850867af38ab1597de26bd'), ObjectId('5e850876af38ab1597dedcea')]}\n"
     ]
    }
   ],
   "source": [
    "# Se muestran 5 documentos de la nueva colección autores\n",
    "pipeline = [{\"$sample\": {\"size\": 5}}]\n",
    "cursor = db.autores.aggregate(pipeline)\n",
    "for doc in list(cursor):\n",
    "    print(doc)"
   ]
  },
  {
   "cell_type": "code",
   "execution_count": 14,
   "metadata": {},
   "outputs": [
    {
     "data": {
      "text/plain": [
       "['documentos', 'autores']"
      ]
     },
     "execution_count": 14,
     "metadata": {},
     "output_type": "execute_result"
    }
   ],
   "source": [
    "db.list_collection_names()"
   ]
  },
  {
   "cell_type": "code",
   "execution_count": 67,
   "metadata": {},
   "outputs": [],
   "source": [
    "# En caso de querer borrar las colleciones y/o la base de datos\n",
    "db.documents.drop()\n",
    "db.autores.drop()\n",
    "conex.drop_database('DBPractica')"
   ]
  }
 ],
 "metadata": {
  "kernelspec": {
   "display_name": "Python 3",
   "language": "python",
   "name": "python3"
  },
  "language_info": {
   "codemirror_mode": {
    "name": "ipython",
    "version": 3
   },
   "file_extension": ".py",
   "mimetype": "text/x-python",
   "name": "python",
   "nbconvert_exporter": "python",
   "pygments_lexer": "ipython3",
   "version": "3.7.6"
  },
  "toc": {
   "base_numbering": 1,
   "nav_menu": {},
   "number_sections": true,
   "sideBar": true,
   "skip_h1_title": false,
   "title_cell": "Table of Contents",
   "title_sidebar": "Contents",
   "toc_cell": false,
   "toc_position": {},
   "toc_section_display": true,
   "toc_window_display": false
  }
 },
 "nbformat": 4,
 "nbformat_minor": 4
}
