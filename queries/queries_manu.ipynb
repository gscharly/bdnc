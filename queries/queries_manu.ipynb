{
 "cells": [
  {
   "cell_type": "code",
   "execution_count": 1,
   "metadata": {},
   "outputs": [],
   "source": [
    "import pymongo"
   ]
  },
  {
   "cell_type": "code",
   "execution_count": 2,
   "metadata": {},
   "outputs": [
    {
     "data": {
      "text/plain": [
       "['BDClientes',\n",
       " 'DBPractica',\n",
       " 'DBProvincias',\n",
       " 'DBSample',\n",
       " 'admin',\n",
       " 'config',\n",
       " 'local']"
      ]
     },
     "execution_count": 2,
     "metadata": {},
     "output_type": "execute_result"
    }
   ],
   "source": [
    "conex = pymongo.MongoClient()\n",
    "conex.list_database_names()"
   ]
  },
  {
   "cell_type": "code",
   "execution_count": 3,
   "metadata": {},
   "outputs": [
    {
     "data": {
      "text/plain": [
       "['autores', 'documentos']"
      ]
     },
     "execution_count": 3,
     "metadata": {},
     "output_type": "execute_result"
    }
   ],
   "source": [
    "db = conex.DBPractica\n",
    "db.list_collection_names()"
   ]
  },
  {
   "cell_type": "markdown",
   "metadata": {},
   "source": [
    "# Consulta 1"
   ]
  },
  {
   "cell_type": "code",
   "execution_count": 39,
   "metadata": {},
   "outputs": [
    {
     "name": "stdout",
     "output_type": "stream",
     "text": [
      "CPU times: user 2 µs, sys: 0 ns, total: 2 µs\n",
      "Wall time: 5.96 µs\n",
      "El listado de publicaciones de Juerg Tschirren es el siguiente: \n",
      " [{'title': \"Extraction of Airways From CT (EXACT'09).\"}, {'title': 'Automated Analysis of Doppler Ultrasound Velocity Flow Diagrams.'}, {'title': 'Intrathoracic airway trees: segmentation and airway morphology analysis from low-dose CT scans.'}, {'title': 'Matching and anatomical labeling of human airway tree.'}, {'title': 'Quantitative analysis of pulmonary airway tree structures.'}, {'title': 'Determination of the envelope function (maximum velocity curve) in Doppler ultrasound flow velocity diagrams.'}, {'title': 'Quantitative analysis of three-dimensional tubular tree structures.'}, {'title': 'Pulmonary CT Image Analysis and Computer Aided Detection.'}, {'title': 'Segmentation, Skeletonization, and Branchpoint Matching - A Fully Automated Quantitative Evaluation of Human Intrathoracic Airway Trees.'}, {'title': 'Automated Nomenclature Labeling of the Bronchial Tree in 3D-CT Lung Images.'}, {'title': 'Quantitative Analysis of Intrathoracic Airway Trees: Methods and Validation.'}, {'title': None}]\n"
     ]
    }
   ],
   "source": [
    "%time\n",
    "author_name = \"Juerg Tschirren\"\n",
    "query1 = db.documentos.find({\"authors\": author_name}, {\"_id\": 0, \"title\": 1})\n",
    "print('El listado de publicaciones de {} es el siguiente: \\n {}'.format(author_name, list(query1)))"
   ]
  },
  {
   "cell_type": "code",
   "execution_count": 37,
   "metadata": {},
   "outputs": [
    {
     "data": {
      "text/plain": [
       "{'executionSuccess': True,\n",
       " 'nReturned': 12,\n",
       " 'executionTimeMillis': 3691,\n",
       " 'totalKeysExamined': 0,\n",
       " 'totalDocsExamined': 4873399,\n",
       " 'executionStages': {'stage': 'PROJECTION_SIMPLE',\n",
       "  'nReturned': 12,\n",
       "  'executionTimeMillisEstimate': 43,\n",
       "  'works': 4873401,\n",
       "  'advanced': 12,\n",
       "  'needTime': 4873388,\n",
       "  'needYield': 0,\n",
       "  'saveState': 38073,\n",
       "  'restoreState': 38073,\n",
       "  'isEOF': 1,\n",
       "  'transformBy': {'_id': 0, 'title': 1},\n",
       "  'inputStage': {'stage': 'COLLSCAN',\n",
       "   'filter': {'authors': {'$eq': 'Juerg Tschirren'}},\n",
       "   'nReturned': 12,\n",
       "   'executionTimeMillisEstimate': 41,\n",
       "   'works': 4873401,\n",
       "   'advanced': 12,\n",
       "   'needTime': 4873388,\n",
       "   'needYield': 0,\n",
       "   'saveState': 38073,\n",
       "   'restoreState': 38073,\n",
       "   'isEOF': 1,\n",
       "   'direction': 'forward',\n",
       "   'docsExamined': 4873399}},\n",
       " 'allPlansExecution': []}"
      ]
     },
     "metadata": {},
     "output_type": "display_data"
    },
    {
     "data": {
      "text/plain": [
       "{'plannerVersion': 1,\n",
       " 'namespace': 'DBPractica.documentos',\n",
       " 'indexFilterSet': False,\n",
       " 'parsedQuery': {'authors': {'$eq': 'Juerg Tschirren'}},\n",
       " 'winningPlan': {'stage': 'PROJECTION_SIMPLE',\n",
       "  'transformBy': {'_id': 0, 'title': 1},\n",
       "  'inputStage': {'stage': 'COLLSCAN',\n",
       "   'filter': {'authors': {'$eq': 'Juerg Tschirren'}},\n",
       "   'direction': 'forward'}},\n",
       " 'rejectedPlans': []}"
      ]
     },
     "execution_count": 37,
     "metadata": {},
     "output_type": "execute_result"
    }
   ],
   "source": [
    "# Imprimimos por pantalla algunas estadísticas relativas a la consulta realizada\n",
    "query1_stats = db.documentos.find({\"authors\": author_name}, {\"_id\": 0, \"title\": 1}).explain()\n",
    "display(query1_stats[\"executionStats\"])\n",
    "query1_stats[\"queryPlanner\"]"
   ]
  },
  {
   "cell_type": "markdown",
   "metadata": {},
   "source": [
    "# Consulta 2"
   ]
  },
  {
   "cell_type": "code",
   "execution_count": 57,
   "metadata": {},
   "outputs": [
    {
     "name": "stdout",
     "output_type": "stream",
     "text": [
      "CPU times: user 2 µs, sys: 0 ns, total: 2 µs\n",
      "Wall time: 28.8 µs\n",
      "{'_id': 'Juerg Tschirren', 'Total publicaciones': 12}\n"
     ]
    }
   ],
   "source": [
    "%time\n",
    "# Using authors collection\n",
    "author_name = \"Juerg Tschirren\"\n",
    "query2 = db.autores.aggregate([{\"$match\": {\"_id\": author_name}}, {\"$project\": {\"Total publicaciones\": {\"$size\": \"$publications\"}}}])\n",
    "for doc in query2:\n",
    "    print(doc)"
   ]
  },
  {
   "cell_type": "markdown",
   "metadata": {},
   "source": [
    "La opción explain no está soportada en combinación con aggregate en pymongo (https://api.mongodb.com/python/3.5.1/api/pymongo/collection.html). Para ver las estadísticas de una query es mejor en la shell de mongo. Lo máximo que creo que se puede sacar aquí es lo siguiente:"
   ]
  },
  {
   "cell_type": "code",
   "execution_count": 56,
   "metadata": {},
   "outputs": [
    {
     "data": {
      "text/plain": [
       "{'stages': [{'$cursor': {'query': {'_id': 'Juerg Tschirren'},\n",
       "    'fields': {'publications': 1, '_id': 1},\n",
       "    'queryPlanner': {'plannerVersion': 1,\n",
       "     'namespace': 'DBPractica.autores',\n",
       "     'indexFilterSet': False,\n",
       "     'parsedQuery': {'_id': {'$eq': 'Juerg Tschirren'}},\n",
       "     'queryHash': '3A21D503',\n",
       "     'planCacheKey': 'F053AE06',\n",
       "     'winningPlan': {'stage': 'PROJECTION_SIMPLE',\n",
       "      'transformBy': {'publications': 1, '_id': 1},\n",
       "      'inputStage': {'stage': 'IDHACK'}},\n",
       "     'rejectedPlans': []}}},\n",
       "  {'$project': {'_id': True,\n",
       "    'Total publicaciones': {'$size': ['$publications']}}}],\n",
       " 'serverInfo': {'host': 'MBP-de-Manuel.home',\n",
       "  'port': 27017,\n",
       "  'version': '4.2.3',\n",
       "  'gitVersion': '6874650b362138df74be53d366bbefc321ea32d4'},\n",
       " 'ok': 1.0}"
      ]
     },
     "execution_count": 56,
     "metadata": {},
     "output_type": "execute_result"
    }
   ],
   "source": [
    "#query2_stats = db.autores.explain(\"executionStats\").aggregate([{\"$match\": {\"_id\": \"Juerg Tschirren\"}}, {\"$project\": {\"Total publicaciones\": {\"$size\": \"$publications\"}}}]) #Esta query funciona en la mongo shell\n",
    "query2_pipeline = [{\"$match\": {\"_id\": author_name}}, {\"$project\": {\"Total publicaciones\": {\"$size\": \"$publications\"}}}]\n",
    "db.command('aggregate', 'autores', pipeline=query2_pipeline, explain=True)\n"
   ]
  },
  {
   "cell_type": "markdown",
   "metadata": {},
   "source": [
    "# Consulta 3:"
   ]
  },
  {
   "cell_type": "code",
   "execution_count": 59,
   "metadata": {},
   "outputs": [
    {
     "name": "stdout",
     "output_type": "stream",
     "text": [
      "CPU times: user 2 µs, sys: 0 ns, total: 2 µs\n",
      "Wall time: 4.05 µs\n",
      "El número de artículos en 2018 es: 179819\n"
     ]
    }
   ],
   "source": [
    "%time\n",
    "year = \"2018\"\n",
    "publication_type = \"article\"\n",
    "query3 = db.documentos.count_documents({\"$and\": [{\"year\": year}, {\"type\": publication_type}]})\n",
    "print('El número de artículos en 2018 es: {}'.format(query3))"
   ]
  },
  {
   "cell_type": "code",
   "execution_count": 65,
   "metadata": {},
   "outputs": [
    {
     "name": "stdout",
     "output_type": "stream",
     "text": [
      "CPU times: user 2 µs, sys: 0 ns, total: 2 µs\n",
      "Wall time: 30 µs\n",
      "{'Total articulos 2018': 179819}\n"
     ]
    }
   ],
   "source": [
    "# Using aggregation framework\n",
    "%time\n",
    "query3_2 = db.documentos.aggregate([{\"$match\": {\"$and\": [{\"year\": year}, {\"type\": publication_type}]}},\n",
    "                                  {\"$count\": \"Total articulos 2018\"}])\n",
    "for doc in query3_2:\n",
    "    print(doc)"
   ]
  },
  {
   "cell_type": "code",
   "execution_count": 66,
   "metadata": {},
   "outputs": [
    {
     "data": {
      "text/plain": [
       "{'stages': [{'$cursor': {'query': {'$and': [{'year': '2018'},\n",
       "      {'type': 'article'}]},\n",
       "    'queryPlanner': {'plannerVersion': 1,\n",
       "     'namespace': 'DBPractica.autores',\n",
       "     'indexFilterSet': False,\n",
       "     'parsedQuery': {'$and': [{'type': {'$eq': 'article'}},\n",
       "       {'year': {'$eq': '2018'}}]},\n",
       "     'queryHash': '65CBB061',\n",
       "     'planCacheKey': '65CBB061',\n",
       "     'winningPlan': {'stage': 'COLLSCAN',\n",
       "      'filter': {'$and': [{'type': {'$eq': 'article'}},\n",
       "        {'year': {'$eq': '2018'}}]},\n",
       "      'direction': 'forward'},\n",
       "     'rejectedPlans': []}}},\n",
       "  {'$group': {'_id': {'$const': None},\n",
       "    'Total articulos 2018': {'$sum': {'$const': 1}}}},\n",
       "  {'$project': {'_id': False, 'Total articulos 2018': True}}],\n",
       " 'serverInfo': {'host': 'MBP-de-Manuel.home',\n",
       "  'port': 27017,\n",
       "  'version': '4.2.3',\n",
       "  'gitVersion': '6874650b362138df74be53d366bbefc321ea32d4'},\n",
       " 'ok': 1.0}"
      ]
     },
     "execution_count": 66,
     "metadata": {},
     "output_type": "execute_result"
    }
   ],
   "source": [
    "#query3_stats =  db.documentos.explain(\"executionStats\").aggregate([{\"$match\": {\"$and\": [{\"year\": \"2018\"}, {\"type\": \"article\"}]}}, {\"$count\": \"Total articulos 2018\"}])\n",
    "query3_pipeline = [{\"$match\": {\"$and\": [{\"year\": year}, {\"type\": publication_type}]}},\n",
    "                                  {\"$count\": \"Total articulos 2018\"}]\n",
    "db.command('aggregate', 'autores', pipeline=query3_pipeline, explain=True)"
   ]
  },
  {
   "cell_type": "markdown",
   "metadata": {},
   "source": [
    "# Consulta 4:"
   ]
  },
  {
   "cell_type": "code",
   "execution_count": 73,
   "metadata": {},
   "outputs": [
    {
     "name": "stdout",
     "output_type": "stream",
     "text": [
      "CPU times: user 2 µs, sys: 0 ns, total: 2 µs\n",
      "Wall time: 5.25 µs\n",
      "{'Autores con menos de 5 publicaciones': 1935763}\n"
     ]
    }
   ],
   "source": [
    "%time\n",
    "query4 = db.autores.aggregate([{\"$project\": {\"num_publications\": {\"$size\": \"$publications\"}}},\n",
    "                               {\"$match\": {\"num_publications\": {\"$lt\": 5}}},\n",
    "                               {\"$count\": \"Autores con menos de 5 publicaciones\"}])\n",
    "for doc in query4:\n",
    "    print(doc)"
   ]
  },
  {
   "cell_type": "code",
   "execution_count": null,
   "metadata": {},
   "outputs": [],
   "source": [
    "#query4_stats =  db.autores.explain(\"executionStats\").aggregate([{\"$project\": {\"num_publications\": {\"$size\": \"$publications\"}}}, {\"$match\": {\"num_publications\": {\"$lt\": 5}}}, {\"$count\": \"Autores con menos de 5 publicaciones\"}])"
   ]
  },
  {
   "cell_type": "markdown",
   "metadata": {},
   "source": [
    "# Consulta 5:"
   ]
  },
  {
   "cell_type": "code",
   "execution_count": 93,
   "metadata": {},
   "outputs": [
    {
     "name": "stdout",
     "output_type": "stream",
     "text": [
      "CPU times: user 2 µs, sys: 0 ns, total: 2 µs\n",
      "Wall time: 5.01 µs\n",
      "{'_id': 'article', 'count': 6936}\n",
      "{'_id': 'inproceedings', 'count': 6566}\n"
     ]
    }
   ],
   "source": [
    "%time\n",
    "query5 = db.autores.aggregate([{\"$match\": {\"_id\": {\"$ne\": None}}}, # Para filtrar las publicaciones sin autor\n",
    "                               {\"$addFields\": {\"Total documentos\": {\"$size\": \"$publications\"}}},\n",
    "                               {\"$sort\": {\"Total documentos\": -1}},\n",
    "                               {\"$limit\": 10},\n",
    "                               {\"$project\": {\"Total documentos\": 1}},\n",
    "                               {\"$lookup\": {\"from\": \"documentos\", \"localField\": \"_id\", \"foreignField\": \"authors\", \"as\": \"documents\"}},\n",
    "                               {\"$unwind\": \"$documents\"},\n",
    "                               {\"$match\": {\"documents.type\": {\"$in\": [\"article\", \"inproceedings\"]}}},\n",
    "                               {\"$sortByCount\": \"$documents.type\"}], allowDiskUse = True)\n",
    "\n",
    "for doc in query5:\n",
    "    print(doc)"
   ]
  },
  {
   "cell_type": "code",
   "execution_count": null,
   "metadata": {},
   "outputs": [],
   "source": [
    "# query5_stats = db.autores.aggregate([{\"$match\": {\"_id\": {\"$ne\": null}}}, {\"$addFields\": {\"Total documentos\": {\"$size\": \"$publications\"}}}, {\"$sort\": {\"Total documentos\": -1}}, {\"$limit\": 10}, {\"$project\": {\"Total documentos\": 1}}, {\"$lookup\": {\"from\": \"documentos\", \"localField\": \"_id\", \"foreignField\": \"authors\", \"as\": \"documents\"}}, {\"$unwind\": \"$documents\"}, {\"$match\": {\"documents.type\": {\"$in\": [\"article\", \"inproceedings\"]}}}, {\"$sortByCount\": \"$documents.type\"}])"
   ]
  },
  {
   "cell_type": "markdown",
   "metadata": {},
   "source": [
    "# Consulta 6:"
   ]
  },
  {
   "cell_type": "code",
   "execution_count": 78,
   "metadata": {},
   "outputs": [
    {
     "name": "stdout",
     "output_type": "stream",
     "text": [
      "CPU times: user 2 µs, sys: 1e+03 ns, total: 3 µs\n",
      "Wall time: 5.01 µs\n",
      "{'Numero medio autores': 3.06153138702577}\n"
     ]
    }
   ],
   "source": [
    "%time\n",
    "query6 = db.documentos.aggregate([{\"$project\": {\"Numero autores\": {\"$size\": \"$authors\"}}},\n",
    "                                {\"$group\": {\"_id\": None, \"Numero medio autores\": {\"$avg\": \"$Numero autores\"}}},\n",
    "                                {\"$project\": {\"_id\": 0}}])\n",
    "\n",
    "for doc in query6:\n",
    "    print(doc)"
   ]
  },
  {
   "cell_type": "code",
   "execution_count": 79,
   "metadata": {},
   "outputs": [],
   "source": [
    "#query6_stats = db.documentos.explain(\"executionStats\").aggregate([{\"$project\": {\"Numero autores\": {\"$size\": \"$authors\"}}}, {\"$group\": {\"_id\": null, \"Numero medio autores\": {\"$avg\": \"$Numero autores\"}}}, {\"$project\": {\"_id\": 0}}])"
   ]
  },
  {
   "cell_type": "markdown",
   "metadata": {},
   "source": [
    "# Consulta 7:"
   ]
  },
  {
   "cell_type": "code",
   "execution_count": 81,
   "metadata": {},
   "outputs": [
    {
     "name": "stdout",
     "output_type": "stream",
     "text": [
      "CPU times: user 5 µs, sys: 16 µs, total: 21 µs\n",
      "Wall time: 23.1 µs\n",
      "{'Coautores': ['Bram van Ginneken', 'Hiroko Kitaoka', 'Mathias Prokop', 'Ieneke Hartmann', 'Catalin I. Fetita', 'Jan Sijbers', 'Anthony P. Reeves', 'Pechin Lo', 'Joseph M. Reinhardt', 'Jesper Johannes Holst Pedersen', 'Benjamin Odry', 'Edwin J. R. van Beek', 'Anna Fabijanska', 'Yongsup Park', 'Reinhard Beichel', 'Jaesung Lee', 'Soumik Ukil', 'X. Zhang', 'Oliver Weinheimer', 'Pim A. de Jong', 'Eva M. van Rikxoort', 'Geoffrey McLennan', 'Silvia Born', 'David P. Naidich', 'Marco Feuerstein', 'Ronald M. Lauer', 'Rafael Wiemker', 'Eric A. Hoffman', 'Carlos S. Mendoza', 'Kensaku Mori', 'Milan Sonka', 'Ye Xu', 'Tarunashree Yavarna', 'Romulo Pinho', 'Christian Bauer 0001', 'Benjamin Irving', 'Kalman Palagyi', 'Margarete Ortner', 'Marleen de Bruijne']}\n"
     ]
    }
   ],
   "source": [
    "%time\n",
    "author_name = \"Juerg Tschirren\"\n",
    "query7 = db.documentos.aggregate([{\"$match\": {\"authors\": author_name}},\n",
    "                                      {\"$unwind\": \"$authors\"},\n",
    "                                      {\"$group\": {\"_id\": None, \"Autores\": {\"$addToSet\": \"$authors\"}}},\n",
    "                                      {\"$project\": {\"_id\": 0, \"Coautores\": {\"$setDifference\": [\"$Autores\", [author_name]]}}}])\n",
    "\n",
    "for doc in query7:\n",
    "    print(doc)"
   ]
  },
  {
   "cell_type": "code",
   "execution_count": null,
   "metadata": {},
   "outputs": [],
   "source": [
    "# query7_stats = db.documentos.explain(\"executionStats\").aggregate([{\"$match\": {\"authors\": \"Juerg Tschirren\"}}, {\"$unwind\": \"$authors\"}, {\"$group\": {\"_id\": null, \"Autores\": {\"$addToSet\": \"$authors\"}}}, {\"$project\": {\"_id\": 0, \"Coautores\": {\"$setDifference\": [\"$Autores\", [\"Juerg Tschirren\"]]}}}])"
   ]
  },
  {
   "cell_type": "markdown",
   "metadata": {},
   "source": [
    "# Consulta 8:"
   ]
  },
  {
   "cell_type": "code",
   "execution_count": 83,
   "metadata": {},
   "outputs": [
    {
     "name": "stdout",
     "output_type": "stream",
     "text": [
      "CPU times: user 2 µs, sys: 0 ns, total: 2 µs\n",
      "Wall time: 19.1 µs\n",
      "{'_id': 'Alan M. Turing', 'Edad': 75}\n",
      "{'_id': 'Claude E. Shannon', 'Edad': 71}\n",
      "{'_id': 'Rudolf Carnap', 'Edad': 71}\n",
      "{'_id': 'David Nelson', 'Edad': 70}\n",
      "{'_id': None, 'Edad': 66}\n"
     ]
    }
   ],
   "source": [
    "%time\n",
    "query8 = db.documentos.aggregate([{\"$unwind\": \"$authors\"},\n",
    "                                        {\"$group\": {\"_id\": \"$authors\", \"Primero\": {\"$min\": \"$year\"}, \"Ultimo\": {\"$max\": \"$year\"}}},\n",
    "                                        {\"$addFields\": {\"Ultimo\": {\"$toInt\": \"$Ultimo\"}, \"Primero\": {\"$toInt\": \"$Primero\"}}},\n",
    "                                        {\"$addFields\": {\"Edad\": {\"$subtract\": [\"$Ultimo\", \"$Primero\"]}}},\n",
    "                                        {\"$sort\": {\"Edad\": -1}},\n",
    "                                        {\"$limit\": 5},\n",
    "                                        {\"$project\": {\"_id\": 1, \"Edad\": 1}}], allowDiskUse = True)\n",
    "                                        \n",
    "\n",
    "\n",
    "\n",
    "for doc in query8:\n",
    "    print(doc)"
   ]
  },
  {
   "cell_type": "code",
   "execution_count": null,
   "metadata": {},
   "outputs": [],
   "source": [
    "#query8_stats = db.documentos.explain(\"executionStats\").aggregate([{\"$unwind\": \"$authors\"}, {\"$group\": {\"_id\": \"$authors\", \"Primero\": {\"$min\": \"$year\"}, \"Ultimo\": {\"$max\": \"$year\"}}}, {\"$addFields\": {\"Ultimo\": {\"$toInt\": \"$Ultimo\"}, \"Primero\": {\"$toInt\": \"$Primero\"}}}, {\"$addFields\": {\"Edad\": {\"$subtract\": [\"$Ultimo\", \"$Primero\"]}}}, {\"$sort\": {\"Edad\": -1}}, {\"$limit\": 5}, {\"$project\": {\"_id\": 1, \"Edad\": 1}}], {allowDiskUse: true})"
   ]
  },
  {
   "cell_type": "markdown",
   "metadata": {},
   "source": [
    "# Consulta 9:"
   ]
  },
  {
   "cell_type": "code",
   "execution_count": 85,
   "metadata": {},
   "outputs": [
    {
     "name": "stdout",
     "output_type": "stream",
     "text": [
      "CPU times: user 3 µs, sys: 0 ns, total: 3 µs\n",
      "Wall time: 6.2 µs\n",
      "{'Numero de autores novatos': 1848369}\n"
     ]
    }
   ],
   "source": [
    "%time\n",
    "query9 = db.documentos.aggregate([{\"$unwind\": \"$authors\"},\n",
    "                                {\"$group\": {\"_id\": \"$authors\", \"Primero\": {\"$min\": \"$year\"}, \"Ultimo\": {\"$max\": \"$year\"}}},\n",
    "                                {\"$addFields\": {\"Ultimo\": {\"$toInt\": \"$Ultimo\"}, \"Primero\": {\"$toInt\": \"$Primero\"}}},\n",
    "                                {\"$addFields\": {\"Edad\": {\"$subtract\": [\"$Ultimo\", \"$Primero\"]}}},\n",
    "                                {\"$match\": {\"Edad\": {\"$lt\": 5}}},\n",
    "                                {\"$count\": \"Numero de autores novatos\"}], allowDiskUse = True)\n",
    "                                 \n",
    "    \n",
    "for doc in query9:\n",
    "    print(doc)    "
   ]
  },
  {
   "cell_type": "code",
   "execution_count": null,
   "metadata": {},
   "outputs": [],
   "source": [
    "#query9_stats = db.documentos.explain(\"executionStats\").aggregate([{\"$unwind\": \"$authors\"}, {\"$group\": {\"_id\": \"$authors\", \"Primero\": {\"$min\": \"$year\"}, \"Ultimo\": {\"$max\": \"$year\"}}}, {\"$addFields\": {\"Ultimo\": {\"$toInt\": \"$Ultimo\"}, \"Primero\": {\"$toInt\": \"$Primero\"}}}, {\"$addFields\": {\"Edad\": {\"$subtract\": [\"$Ultimo\", \"$Primero\"]}}}, {\"$match\": {\"Edad\": {\"$lt\": 5}}}, {\"$count\": \"Numero de autores novatos\"}], {allowDiskUse: true})\n",
    "\n",
    "                                "
   ]
  },
  {
   "cell_type": "markdown",
   "metadata": {},
   "source": [
    "# Consulta 10:"
   ]
  },
  {
   "cell_type": "code",
   "execution_count": 87,
   "metadata": {},
   "outputs": [
    {
     "name": "stdout",
     "output_type": "stream",
     "text": [
      "CPU times: user 2 µs, sys: 0 ns, total: 2 µs\n",
      "Wall time: 5.96 µs\n",
      "{'Porcentaje de articulos': 45.89263058493672}\n"
     ]
    }
   ],
   "source": [
    "%time\n",
    "query10 = db.documentos.aggregate([{\"$project\": {\"_id\": 1, \"Articulo\": {\"$cond\": [{\"$eq\": [\"$type\",\"article\"]},1,0]}}}, \n",
    "                                  {\"$group\": {\"_id\": None, \"Total Articulos\": {\"$sum\": \"$Articulo\"}, \"Total Documentos\": {\"$sum\": 1}}}, \n",
    "                                  {\"$project\": {\"_id\": 0, \"Porcentaje de articulos\": {'$multiply':[{'$divide':[\"$Total Articulos\",\"$Total Documentos\"]},100]}}}])\n",
    "\n",
    "\n",
    "\n",
    "for doc in query10:\n",
    "    print(doc)"
   ]
  },
  {
   "cell_type": "code",
   "execution_count": null,
   "metadata": {},
   "outputs": [],
   "source": [
    "#query10_stats = db.documentos.explain(\"executionStats\").aggregate([{\"$project\": {\"_id\": 1, \"Articulo\": {\"$cond\": [{\"$eq\": [\"$type\",\"article\"]},1,0]}}}, {\"$group\": {\"_id\": null, \"Total Articulos\": {\"$sum\": \"$Articulo\"}, \"Total Documentos\": {\"$sum\": 1}}}, {\"$project\": {\"_id\": 0, \"Porcentaje de articulos\": {'$multiply':[{'$divide':[\"$Total Articulos\",\"$Total Documentos\"]},100]}}}])"
   ]
  },
  {
   "cell_type": "code",
   "execution_count": null,
   "metadata": {},
   "outputs": [],
   "source": []
  }
 ],
 "metadata": {
  "kernelspec": {
   "display_name": "Python 3",
   "language": "python",
   "name": "python3"
  },
  "language_info": {
   "codemirror_mode": {
    "name": "ipython",
    "version": 3
   },
   "file_extension": ".py",
   "mimetype": "text/x-python",
   "name": "python",
   "nbconvert_exporter": "python",
   "pygments_lexer": "ipython3",
   "version": "3.7.4"
  }
 },
 "nbformat": 4,
 "nbformat_minor": 4
}
