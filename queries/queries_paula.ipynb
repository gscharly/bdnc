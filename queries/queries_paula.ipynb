{
 "cells": [
  {
   "cell_type": "code",
   "execution_count": 1,
   "outputs": [],
   "source": [
    "import pymongo"
   ],
   "metadata": {
    "collapsed": false,
    "pycharm": {
     "name": "#%%\n",
     "is_executing": false
    }
   }
  },
  {
   "cell_type": "code",
   "execution_count": 2,
   "outputs": [
    {
     "data": {
      "text/plain": "['admin', 'config', 'local', 'practica']"
     },
     "metadata": {},
     "output_type": "execute_result",
     "execution_count": 2
    }
   ],
   "source": [
    "# Conexión al servidor local de mongodb\n",
    "conex = pymongo.MongoClient()\n",
    "conex.list_database_names()"
   ],
   "metadata": {
    "collapsed": false,
    "pycharm": {
     "name": "#%%\n",
     "is_executing": false
    }
   }
  },
  {
   "cell_type": "code",
   "execution_count": 3,
   "outputs": [],
   "source": [
    "# Conexión a la base de datos\n",
    "db = conex.practica"
   ],
   "metadata": {
    "collapsed": false,
    "pycharm": {
     "name": "#%%\n",
     "is_executing": false
    }
   }
  },
  {
   "cell_type": "code",
   "execution_count": 4,
   "outputs": [
    {
     "data": {
      "text/plain": "['documentos', 'autores']"
     },
     "metadata": {},
     "output_type": "execute_result",
     "execution_count": 4
    }
   ],
   "source": [
    "db.list_collection_names()"
   ],
   "metadata": {
    "collapsed": false,
    "pycharm": {
     "name": "#%%\n",
     "is_executing": false
    }
   }
  },
  {
   "cell_type": "markdown",
   "source": [
    "## Consulta 1\n",
    "Listado de todas las publicaciones de un autor determinado."
   ],
   "metadata": {
    "collapsed": false
   }
  },
  {
   "cell_type": "code",
   "execution_count": 35,
   "outputs": [
    {
     "name": "stdout",
     "text": [
      "['tr/meltdown/s18', 'tr/meltdown/m18', 'journals/corr/abs-1807-10535', 'journals/corr/abs-1801-01207', 'journals/corr/GrussMM15', 'journals/corr/LippGSM15', 'journals/corr/abs-1902-03256', 'journals/corr/abs-1801-01203', 'journals/corr/abs-1905-05725', 'journals/corr/SchwarzLGWMSM17', 'journals/corr/Gruss17', 'journals/corr/SchwarzWGMM17', 'journals/corr/PesslGMM15', 'journals/corr/abs-1901-01161', 'journals/corr/abs-1905-05726', 'journals/corr/abs-1710-00551', 'journals/corr/GrussMW15', 'journals/corr/abs-1811-05441', 'journals/corr/abs-1905-09100', 'journals/corr/abs-1905-12701', 'journals/corr/abs-1805-04956', 'journals/corr/abs-1711-01254', 'journals/usenix-login/GrussHG18', 'journals/cybersec/SchwarzWGMM20', 'conf/ccs/Gruss0WGMML18', 'conf/ccs/0001LMBS0G19', 'conf/ccs/0001GLMSFM18', 'conf/ccs/VeenFLGMVBRG16', 'conf/ccs/GrussMFLM16', 'conf/ccs/GrussKT0THIF19', 'conf/ccs/CanellaGGGLMMP019', 'conf/ccs/SpreitzerKGM18', 'conf/fc/SchwarzMGM17', 'conf/uss/GrussLSOHC17', 'conf/uss/Lipp0G0HFHMKGYH18', 'conf/uss/CanellaB0LBOPEG19', 'conf/uss/PesslGMSM16', 'conf/uss/WernerUG0GM19', 'conf/uss/LippGSMM16', 'conf/uss/GrussSM15', 'conf/ndss/MauriceW0GGBMR17', 'conf/ndss/0001LG18', 'conf/ndss/0001LGWMSM18', 'conf/ndss/0001LG19', 'conf/raid/WeiserMSG19', 'conf/dimva/GrussMWM16', 'conf/dimva/0001WG19', 'conf/dimva/GrussMM16', 'conf/dimva/SchwarzWGMM17', 'conf/gi/Gruss17', 'conf/esorics/0001SLMG19', 'conf/esorics/GrussBM15', 'conf/esorics/LippGSBMM17', 'conf/sp/KocherHFGGHHLM019', 'conf/sp/GrussLSGJOSY18', 'conf/essos/GrussLSFMM17', 'conf/fdg/EgerG19']\n"
     ],
     "output_type": "stream"
    }
   ],
   "source": [
    "autor = \"Daniel Gruss\"\n",
    "c1 = db.autores.find({\"_id\":autor}, {\"publications\":1})\n",
    "c1 = list(c1)\n",
    "print(c1[0]['publications'])"
   ],
   "metadata": {
    "collapsed": false,
    "pycharm": {
     "name": "#%%\n",
     "is_executing": false
    }
   }
  },
  {
   "cell_type": "markdown",
   "source": [
    "## Consulta 2\n",
    "Número de publicaciones de un autor determinado."
   ],
   "metadata": {
    "collapsed": false
   }
  },
  {
   "cell_type": "code",
   "execution_count": 76,
   "outputs": [
    {
     "name": "stdout",
     "text": [
      "[{'_id': 'Daniel Gruss', 'Número de publicaciones': 57}]\n"
     ],
     "output_type": "stream"
    }
   ],
   "source": [
    "autor = \"Daniel Gruss\"\n",
    "c2 = db.autores.aggregate([\n",
    "    {\"$match\":{\"_id\":autor}},\n",
    "    {\"$project\":{\"Número de publicaciones\":{\"$size\":\"$publications\"}}\n",
    "    }\n",
    "])\n",
    "\n",
    "print(list(c2))"
   ],
   "metadata": {
    "collapsed": false,
    "pycharm": {
     "name": "#%%\n",
     "is_executing": false
    }
   }
  },
  {
   "cell_type": "markdown",
   "source": [
    "## Consulta 3\n",
    "Número de artículos en revista para el año 2018."
   ],
   "metadata": {
    "collapsed": false
   }
  },
  {
   "cell_type": "code",
   "execution_count": 64,
   "outputs": [
    {
     "name": "stdout",
     "text": [
      "[{'Número artículos en el año 2018': 836}]\n"
     ],
     "output_type": "stream"
    }
   ],
   "source": [
    "c3 = db.documentos.aggregate([\n",
    "    {\"$sample\":{\"size\":20000}},\n",
    "    {\"$match\":{\"year\":\"2018\", \"type\":\"article\"}},\n",
    "    {\"$count\":\"Número artículos en el año 2018\"}\n",
    "])\n",
    "print(list(c3))"
   ],
   "metadata": {
    "collapsed": false,
    "pycharm": {
     "name": "#%%\n",
     "is_executing": false
    }
   }
  },
  {
   "cell_type": "markdown",
   "source": [
    "## Consulta 4\n",
    "Número de autores ocasionales, es decir, que tengan menos de 5 publicaciones en total."
   ],
   "metadata": {
    "collapsed": false
   }
  },
  {
   "cell_type": "code",
   "execution_count": 94,
   "outputs": [
    {
     "name": "stdout",
     "text": [
      "[{'Número de autores ocasionales': 14864}]\n"
     ],
     "output_type": "stream"
    }
   ],
   "source": [
    "c4 = db.autores.aggregate([\n",
    "    {\"$sample\":{\"size\":20000}},\n",
    "    {\"$project\":{\"N_publicaciones\":{\"$size\":\"$publications\"}}},\n",
    "    {\"$match\":{\"N_publicaciones\":{\"$lt\":5}}},\n",
    "    {\"$count\":\"Número de autores ocasionales\"}\n",
    "])\n",
    "print(list(c4))"
   ],
   "metadata": {
    "collapsed": false,
    "pycharm": {
     "name": "#%%\n",
     "is_executing": false
    }
   }
  },
  {
   "cell_type": "markdown",
   "source": [
    "## Consulta 5\n",
    "Número de artículos de revista (article) y número de artículos en congresos\n",
    "(inproceedings) de los diez autores con más publicaciones totales."
   ],
   "metadata": {
    "collapsed": false
   }
  },
  {
   "cell_type": "code",
   "execution_count": 82,
   "outputs": [
    {
     "traceback": [
      "\u001b[0;36m  File \u001b[0;32m\"<ipython-input-82-b4bbf799b296>\"\u001b[0;36m, line \u001b[0;32m15\u001b[0m\n\u001b[0;31m    {\"inproceedings\":{\"$match\":{\"ref_publication.type\":\"inproceedings\"}}}}\u001b[0m\n\u001b[0m                                                                         ^\u001b[0m\n\u001b[0;31mSyntaxError\u001b[0m\u001b[0;31m:\u001b[0m invalid syntax\n"
     ],
     "ename": "SyntaxError",
     "evalue": "invalid syntax (<ipython-input-82-b4bbf799b296>, line 15)",
     "output_type": "error"
    }
   ],
   "source": [
    "c5 = db.autores.aggregate([\n",
    "    {\"$sample\":{\"size\":20000}},\n",
    "    {\"$project\":{\"N_publicaciones\":{\"$size\":\"$publications\"}, \"publications\": 1}},\n",
    "    {\"$sort\":{\"N_publicaciones\":-1}},\n",
    "    {\"$limit\":10},\n",
    "    {\"$unwind\": \"$publications\"},\n",
    "    {\"$lookup\":\n",
    "     {\n",
    "       \"from\":\"documentos\",\n",
    "       \"localField\":\"publications\",\n",
    "       \"foreignField\":\"_id\",\n",
    "       \"as\":\"ref_publication\"\n",
    "     }},\n",
    "  \n",
    "])\n",
    "c5 = list(c5)\n",
    "print(c5)\n"
   ],
   "metadata": {
    "collapsed": false,
    "pycharm": {
     "name": "#%%\n",
     "is_executing": false
    }
   }
  },
  {
   "cell_type": "markdown",
   "source": [
    "## Consulta 6\n",
    "Número medio de autores de todas las publicaciones que tenga en su conjunto de datos."
   ],
   "metadata": {
    "collapsed": false
   }
  },
  {
   "cell_type": "code",
   "execution_count": 1,
   "outputs": [
    {
     "traceback": [
      "\u001b[0;31m---------------------------------------------------------------------------\u001b[0m",
      "\u001b[0;31mNameError\u001b[0m                                 Traceback (most recent call last)",
      "\u001b[0;32m<ipython-input-1-6476b4f24b04>\u001b[0m in \u001b[0;36m<module>\u001b[0;34m\u001b[0m\n\u001b[0;32m----> 1\u001b[0;31m c6 = db.documentos.aggregate([\n\u001b[0m\u001b[1;32m      2\u001b[0m     \u001b[0;34m{\u001b[0m\u001b[0;34m\"$sample\"\u001b[0m\u001b[0;34m:\u001b[0m\u001b[0;34m{\u001b[0m\u001b[0;34m\"size\"\u001b[0m\u001b[0;34m:\u001b[0m\u001b[0;36m10000\u001b[0m\u001b[0;34m}\u001b[0m\u001b[0;34m}\u001b[0m\u001b[0;34m,\u001b[0m\u001b[0;34m\u001b[0m\u001b[0;34m\u001b[0m\u001b[0m\n\u001b[1;32m      3\u001b[0m     \u001b[0;34m{\u001b[0m\u001b[0;34m\"$project\"\u001b[0m\u001b[0;34m:\u001b[0m\u001b[0;34m{\u001b[0m\u001b[0;34m\"N_autores\"\u001b[0m\u001b[0;34m:\u001b[0m\u001b[0;34m{\u001b[0m\u001b[0;34m\"$size\"\u001b[0m\u001b[0;34m:\u001b[0m\u001b[0;34m\"$authors\"\u001b[0m\u001b[0;34m}\u001b[0m\u001b[0;34m}\u001b[0m\u001b[0;34m}\u001b[0m\u001b[0;34m,\u001b[0m\u001b[0;34m\u001b[0m\u001b[0;34m\u001b[0m\u001b[0m\n\u001b[1;32m      4\u001b[0m     {\"$group\":{\n\u001b[1;32m      5\u001b[0m         \u001b[0;34m\"_id\"\u001b[0m\u001b[0;34m:\u001b[0m\u001b[0;32mNone\u001b[0m\u001b[0;34m,\u001b[0m\u001b[0;34m\u001b[0m\u001b[0;34m\u001b[0m\u001b[0m\n",
      "\u001b[0;31mNameError\u001b[0m: name 'db' is not defined"
     ],
     "ename": "NameError",
     "evalue": "name 'db' is not defined",
     "output_type": "error"
    }
   ],
   "source": [
    "c6 = db.documentos.aggregate([\n",
    "    {\"$sample\":{\"size\":10000}},\n",
    "    {\"$project\":{\"N_autores\":{\"$size\":\"$authors\"}}},\n",
    "    {\"$group\":{\n",
    "        \"_id\":None, \n",
    "        \"Númeno medio de autores\":{\"$avg\":\"$N_autores\"}}},\n",
    "    {\"$project\":{\"_id\":0}}\n",
    "])\n",
    "\n",
    "print(list(c6))"
   ],
   "metadata": {
    "collapsed": false,
    "pycharm": {
     "name": "#%%\n",
     "is_executing": false
    }
   }
  },
  {
   "cell_type": "markdown",
   "source": [
    "## Consulta 7\n",
    "Listado de coautores de un autor (Se denomina coautor a cualquier persona que haya\n",
    "firmado una publicación)."
   ],
   "metadata": {
    "collapsed": false
   }
  },
  {
   "cell_type": "code",
   "execution_count": 77,
   "outputs": [
    {
     "name": "stdout",
     "text": [
      "[{'Listado de coautores': ['Luca Mayr', 'Florian Lackner', 'Manuel Weber', 'Thomas Unterluggauer', 'Mario Werner', 'Jann Horn', 'Istvan Haller', 'Felix Schuster', 'Julian Lettner', 'Felix Kirchengast', 'Martina Lindorfer', 'Victor van der Veen', 'Stefan More', 'Yanick Fratantonio', 'Timo Malderle', 'Jason Hennessey', 'Raphael Spreitzer', 'Klaus Wagner 0001', 'Richard Fellner', 'Frank Piessens', 'Erik Kraft', 'Cristiano Giuffrida', 'Alex Ionescu', 'Jo Van Bulck', 'Kay Romer', 'Peter Pessl', 'Lukas Giner', 'Benjamin von Berg', 'Claudio Canella', 'Herbert Bos', 'Misiker Tadesse Aga', \"Sioli O'Connell\", 'Lukas Raab', 'David Bidner', 'Trishita Tiwari', 'Clementine Maurice', 'Jonas Juffinger', 'Manuel Costa', 'Werner Haas', 'Stefan Mangard', 'Paul Kocher', 'Moritz Lipp', 'Ari Trachtenberg', 'Thomas Prescher 0002', 'Jon Masters', 'Julian Stecklina', 'Markus Eger', 'Berk Sunar', 'Daniel Genkin', 'Daniel Moghimi', 'Matthias Wubbeling', 'Giovanni Vigna', 'Michael Schwarz 0001', 'Lukas Lamster', 'Florian Kargl', 'Robert Schilling', 'Yuval Yarom', 'Philipp Ortner', 'Olga Ohrimenko', 'Anders Fogh', 'Kaveh Razavi', 'Wolfgang Schoechl', 'Dmitry Evtyushkin', 'Mike Hamburg', 'Thomas Schuster', 'Marina Minkin', 'Dave Hansen', 'Samuel Weiser', 'Brendan Gregg', 'Carlo Alberto Boano', 'Martin Schwarzl', 'Simon Guggi']}]\n"
     ],
     "output_type": "stream"
    }
   ],
   "source": [
    "autor = \"Daniel Gruss\"\n",
    "c7 = db.documentos.aggregate([\n",
    "    {\"$match\":{\"authors\":autor}},\n",
    "    {\"$unwind\": \"$authors\"},\n",
    "    {\"$group\":{\n",
    "        \"_id\":None, \n",
    "        \"Listado\":{\"$addToSet\":\"$authors\"}}},\n",
    "    {\"$project\": {\"Listado de coautores\": \n",
    "                      {\"$setDifference\": [\"$Listado\", [autor]]}, \"_id\":0}}\n",
    "])\n",
    "\n",
    "print(list(c7))"
   ],
   "metadata": {
    "collapsed": false,
    "pycharm": {
     "name": "#%%\n",
     "is_executing": false
    }
   }
  },
  {
   "cell_type": "markdown",
   "source": [
    "## Consulta 8\n",
    "Edad de los 5 autores con un periodo de publicaciones más largo (Se considera la Edad\n",
    "de un autor al número de años transcurridos desde la fecha de su primera publicación\n",
    "hasta la última registrada)."
   ],
   "metadata": {
    "collapsed": false
   }
  },
  {
   "cell_type": "code",
   "execution_count": 14,
   "outputs": [
    {
     "traceback": [
      "\u001b[0;31m---------------------------------------------------------------------------\u001b[0m",
      "\u001b[0;31mOperationFailure\u001b[0m                          Traceback (most recent call last)",
      "\u001b[0;32m<ipython-input-14-b5c25710c27b>\u001b[0m in \u001b[0;36m<module>\u001b[0;34m\u001b[0m\n\u001b[1;32m     11\u001b[0m     \u001b[0;34m{\u001b[0m\u001b[0;34m\"$addFields\"\u001b[0m\u001b[0;34m:\u001b[0m\u001b[0;34m{\u001b[0m\u001b[0;34m\"año_min\"\u001b[0m\u001b[0;34m:\u001b[0m\u001b[0;34m{\u001b[0m\u001b[0;34m\"$min\"\u001b[0m\u001b[0;34m:\u001b[0m\u001b[0;34m\"$ref_publication.year\"\u001b[0m\u001b[0;34m}\u001b[0m\u001b[0;34m}\u001b[0m\u001b[0;34m}\u001b[0m\u001b[0;34m,\u001b[0m\u001b[0;34m\u001b[0m\u001b[0;34m\u001b[0m\u001b[0m\n\u001b[1;32m     12\u001b[0m     \u001b[0;34m{\u001b[0m\u001b[0;34m\"$addFields\"\u001b[0m\u001b[0;34m:\u001b[0m\u001b[0;34m{\u001b[0m\u001b[0;34m\"año_max\"\u001b[0m\u001b[0;34m:\u001b[0m\u001b[0;34m{\u001b[0m\u001b[0;34m\"$max\"\u001b[0m\u001b[0;34m:\u001b[0m\u001b[0;34m\"$ref_publication.year\"\u001b[0m\u001b[0;34m}\u001b[0m\u001b[0;34m}\u001b[0m\u001b[0;34m}\u001b[0m\u001b[0;34m,\u001b[0m\u001b[0;34m\u001b[0m\u001b[0;34m\u001b[0m\u001b[0m\n\u001b[0;32m---> 13\u001b[0;31m     \u001b[0;34m{\u001b[0m\u001b[0;34m\"$addFields\"\u001b[0m\u001b[0;34m:\u001b[0m \u001b[0;34m{\u001b[0m\u001b[0;34m\"Ultimo\"\u001b[0m\u001b[0;34m:\u001b[0m \u001b[0;34m{\u001b[0m\u001b[0;34m\"$toInt\"\u001b[0m\u001b[0;34m:\u001b[0m \u001b[0;34m\"$año_max\"\u001b[0m\u001b[0;34m}\u001b[0m\u001b[0;34m,\u001b[0m \u001b[0;34m\"Primero\"\u001b[0m\u001b[0;34m:\u001b[0m \u001b[0;34m{\u001b[0m\u001b[0;34m\"$toInt\"\u001b[0m\u001b[0;34m:\u001b[0m \u001b[0;34m\"$año_min\"\u001b[0m\u001b[0;34m}\u001b[0m\u001b[0;34m}\u001b[0m\u001b[0;34m}\u001b[0m\u001b[0;34m\u001b[0m\u001b[0;34m\u001b[0m\u001b[0m\n\u001b[0m\u001b[1;32m     14\u001b[0m     \u001b[0;31m# {\"$addFields\":{\"edad\":{\"$subtract\":[\"año_min\",\"año_max\"]}}},\u001b[0m\u001b[0;34m\u001b[0m\u001b[0;34m\u001b[0m\u001b[0;34m\u001b[0m\u001b[0m\n\u001b[1;32m     15\u001b[0m \u001b[0;34m\u001b[0m\u001b[0m\n",
      "\u001b[0;32m~/bbdd_env/lib/python3.6/site-packages/pymongo/collection.py\u001b[0m in \u001b[0;36maggregate\u001b[0;34m(self, pipeline, session, **kwargs)\u001b[0m\n\u001b[1;32m   2378\u001b[0m                                    \u001b[0msession\u001b[0m\u001b[0;34m=\u001b[0m\u001b[0ms\u001b[0m\u001b[0;34m,\u001b[0m\u001b[0;34m\u001b[0m\u001b[0;34m\u001b[0m\u001b[0m\n\u001b[1;32m   2379\u001b[0m                                    \u001b[0mexplicit_session\u001b[0m\u001b[0;34m=\u001b[0m\u001b[0msession\u001b[0m \u001b[0;32mis\u001b[0m \u001b[0;32mnot\u001b[0m \u001b[0;32mNone\u001b[0m\u001b[0;34m,\u001b[0m\u001b[0;34m\u001b[0m\u001b[0;34m\u001b[0m\u001b[0m\n\u001b[0;32m-> 2380\u001b[0;31m                                    **kwargs)\n\u001b[0m\u001b[1;32m   2381\u001b[0m \u001b[0;34m\u001b[0m\u001b[0m\n\u001b[1;32m   2382\u001b[0m     \u001b[0;32mdef\u001b[0m \u001b[0maggregate_raw_batches\u001b[0m\u001b[0;34m(\u001b[0m\u001b[0mself\u001b[0m\u001b[0;34m,\u001b[0m \u001b[0mpipeline\u001b[0m\u001b[0;34m,\u001b[0m \u001b[0;34m**\u001b[0m\u001b[0mkwargs\u001b[0m\u001b[0;34m)\u001b[0m\u001b[0;34m:\u001b[0m\u001b[0;34m\u001b[0m\u001b[0;34m\u001b[0m\u001b[0m\n",
      "\u001b[0;32m~/bbdd_env/lib/python3.6/site-packages/pymongo/collection.py\u001b[0m in \u001b[0;36m_aggregate\u001b[0;34m(self, aggregation_command, pipeline, cursor_class, session, explicit_session, **kwargs)\u001b[0m\n\u001b[1;32m   2297\u001b[0m         return self.__database.client._retryable_read(\n\u001b[1;32m   2298\u001b[0m             \u001b[0mcmd\u001b[0m\u001b[0;34m.\u001b[0m\u001b[0mget_cursor\u001b[0m\u001b[0;34m,\u001b[0m \u001b[0mcmd\u001b[0m\u001b[0;34m.\u001b[0m\u001b[0mget_read_preference\u001b[0m\u001b[0;34m(\u001b[0m\u001b[0msession\u001b[0m\u001b[0;34m)\u001b[0m\u001b[0;34m,\u001b[0m \u001b[0msession\u001b[0m\u001b[0;34m,\u001b[0m\u001b[0;34m\u001b[0m\u001b[0;34m\u001b[0m\u001b[0m\n\u001b[0;32m-> 2299\u001b[0;31m             retryable=not cmd._performs_write)\n\u001b[0m\u001b[1;32m   2300\u001b[0m \u001b[0;34m\u001b[0m\u001b[0m\n\u001b[1;32m   2301\u001b[0m     \u001b[0;32mdef\u001b[0m \u001b[0maggregate\u001b[0m\u001b[0;34m(\u001b[0m\u001b[0mself\u001b[0m\u001b[0;34m,\u001b[0m \u001b[0mpipeline\u001b[0m\u001b[0;34m,\u001b[0m \u001b[0msession\u001b[0m\u001b[0;34m=\u001b[0m\u001b[0;32mNone\u001b[0m\u001b[0;34m,\u001b[0m \u001b[0;34m**\u001b[0m\u001b[0mkwargs\u001b[0m\u001b[0;34m)\u001b[0m\u001b[0;34m:\u001b[0m\u001b[0;34m\u001b[0m\u001b[0;34m\u001b[0m\u001b[0m\n",
      "\u001b[0;32m~/bbdd_env/lib/python3.6/site-packages/pymongo/mongo_client.py\u001b[0m in \u001b[0;36m_retryable_read\u001b[0;34m(self, func, read_pref, session, address, retryable, exhaust)\u001b[0m\n\u001b[1;32m   1462\u001b[0m                         \u001b[0;31m# not support retryable reads, raise the last error.\u001b[0m\u001b[0;34m\u001b[0m\u001b[0;34m\u001b[0m\u001b[0;34m\u001b[0m\u001b[0m\n\u001b[1;32m   1463\u001b[0m                         \u001b[0;32mraise\u001b[0m \u001b[0mlast_error\u001b[0m\u001b[0;34m\u001b[0m\u001b[0;34m\u001b[0m\u001b[0m\n\u001b[0;32m-> 1464\u001b[0;31m                     \u001b[0;32mreturn\u001b[0m \u001b[0mfunc\u001b[0m\u001b[0;34m(\u001b[0m\u001b[0msession\u001b[0m\u001b[0;34m,\u001b[0m \u001b[0mserver\u001b[0m\u001b[0;34m,\u001b[0m \u001b[0msock_info\u001b[0m\u001b[0;34m,\u001b[0m \u001b[0mslave_ok\u001b[0m\u001b[0;34m)\u001b[0m\u001b[0;34m\u001b[0m\u001b[0;34m\u001b[0m\u001b[0m\n\u001b[0m\u001b[1;32m   1465\u001b[0m             \u001b[0;32mexcept\u001b[0m \u001b[0mServerSelectionTimeoutError\u001b[0m\u001b[0;34m:\u001b[0m\u001b[0;34m\u001b[0m\u001b[0;34m\u001b[0m\u001b[0m\n\u001b[1;32m   1466\u001b[0m                 \u001b[0;32mif\u001b[0m \u001b[0mretrying\u001b[0m\u001b[0;34m:\u001b[0m\u001b[0;34m\u001b[0m\u001b[0;34m\u001b[0m\u001b[0m\n",
      "\u001b[0;32m~/bbdd_env/lib/python3.6/site-packages/pymongo/aggregation.py\u001b[0m in \u001b[0;36mget_cursor\u001b[0;34m(self, session, server, sock_info, slave_ok)\u001b[0m\n\u001b[1;32m    146\u001b[0m             \u001b[0msession\u001b[0m\u001b[0;34m=\u001b[0m\u001b[0msession\u001b[0m\u001b[0;34m,\u001b[0m\u001b[0;34m\u001b[0m\u001b[0;34m\u001b[0m\u001b[0m\n\u001b[1;32m    147\u001b[0m             \u001b[0mclient\u001b[0m\u001b[0;34m=\u001b[0m\u001b[0mself\u001b[0m\u001b[0;34m.\u001b[0m\u001b[0m_database\u001b[0m\u001b[0;34m.\u001b[0m\u001b[0mclient\u001b[0m\u001b[0;34m,\u001b[0m\u001b[0;34m\u001b[0m\u001b[0;34m\u001b[0m\u001b[0m\n\u001b[0;32m--> 148\u001b[0;31m             user_fields=self._user_fields)\n\u001b[0m\u001b[1;32m    149\u001b[0m \u001b[0;34m\u001b[0m\u001b[0m\n\u001b[1;32m    150\u001b[0m         \u001b[0mself\u001b[0m\u001b[0;34m.\u001b[0m\u001b[0m_process_result\u001b[0m\u001b[0;34m(\u001b[0m\u001b[0mresult\u001b[0m\u001b[0;34m,\u001b[0m \u001b[0msession\u001b[0m\u001b[0;34m,\u001b[0m \u001b[0mserver\u001b[0m\u001b[0;34m,\u001b[0m \u001b[0msock_info\u001b[0m\u001b[0;34m,\u001b[0m \u001b[0mslave_ok\u001b[0m\u001b[0;34m)\u001b[0m\u001b[0;34m\u001b[0m\u001b[0;34m\u001b[0m\u001b[0m\n",
      "\u001b[0;32m~/bbdd_env/lib/python3.6/site-packages/pymongo/pool.py\u001b[0m in \u001b[0;36mcommand\u001b[0;34m(self, dbname, spec, slave_ok, read_preference, codec_options, check, allowable_errors, check_keys, read_concern, write_concern, parse_write_concern_error, collation, session, client, retryable_write, publish_events, user_fields)\u001b[0m\n\u001b[1;32m    611\u001b[0m                            \u001b[0muse_op_msg\u001b[0m\u001b[0;34m=\u001b[0m\u001b[0mself\u001b[0m\u001b[0;34m.\u001b[0m\u001b[0mop_msg_enabled\u001b[0m\u001b[0;34m,\u001b[0m\u001b[0;34m\u001b[0m\u001b[0;34m\u001b[0m\u001b[0m\n\u001b[1;32m    612\u001b[0m                            \u001b[0munacknowledged\u001b[0m\u001b[0;34m=\u001b[0m\u001b[0munacknowledged\u001b[0m\u001b[0;34m,\u001b[0m\u001b[0;34m\u001b[0m\u001b[0;34m\u001b[0m\u001b[0m\n\u001b[0;32m--> 613\u001b[0;31m                            user_fields=user_fields)\n\u001b[0m\u001b[1;32m    614\u001b[0m         \u001b[0;32mexcept\u001b[0m \u001b[0mOperationFailure\u001b[0m\u001b[0;34m:\u001b[0m\u001b[0;34m\u001b[0m\u001b[0;34m\u001b[0m\u001b[0m\n\u001b[1;32m    615\u001b[0m             \u001b[0;32mraise\u001b[0m\u001b[0;34m\u001b[0m\u001b[0;34m\u001b[0m\u001b[0m\n",
      "\u001b[0;32m~/bbdd_env/lib/python3.6/site-packages/pymongo/network.py\u001b[0m in \u001b[0;36mcommand\u001b[0;34m(sock, dbname, spec, slave_ok, is_mongos, read_preference, codec_options, session, client, check, allowable_errors, address, check_keys, listeners, max_bson_size, read_concern, parse_write_concern_error, collation, compression_ctx, use_op_msg, unacknowledged, user_fields)\u001b[0m\n\u001b[1;32m    165\u001b[0m                 helpers._check_command_response(\n\u001b[1;32m    166\u001b[0m                     \u001b[0mresponse_doc\u001b[0m\u001b[0;34m,\u001b[0m \u001b[0;32mNone\u001b[0m\u001b[0;34m,\u001b[0m \u001b[0mallowable_errors\u001b[0m\u001b[0;34m,\u001b[0m\u001b[0;34m\u001b[0m\u001b[0;34m\u001b[0m\u001b[0m\n\u001b[0;32m--> 167\u001b[0;31m                     parse_write_concern_error=parse_write_concern_error)\n\u001b[0m\u001b[1;32m    168\u001b[0m     \u001b[0;32mexcept\u001b[0m \u001b[0mException\u001b[0m \u001b[0;32mas\u001b[0m \u001b[0mexc\u001b[0m\u001b[0;34m:\u001b[0m\u001b[0;34m\u001b[0m\u001b[0;34m\u001b[0m\u001b[0m\n\u001b[1;32m    169\u001b[0m         \u001b[0;32mif\u001b[0m \u001b[0mpublish\u001b[0m\u001b[0;34m:\u001b[0m\u001b[0;34m\u001b[0m\u001b[0;34m\u001b[0m\u001b[0m\n",
      "\u001b[0;32m~/bbdd_env/lib/python3.6/site-packages/pymongo/helpers.py\u001b[0m in \u001b[0;36m_check_command_response\u001b[0;34m(response, msg, allowable_errors, parse_write_concern_error)\u001b[0m\n\u001b[1;32m    157\u001b[0m \u001b[0;34m\u001b[0m\u001b[0m\n\u001b[1;32m    158\u001b[0m             \u001b[0mmsg\u001b[0m \u001b[0;34m=\u001b[0m \u001b[0mmsg\u001b[0m \u001b[0;32mor\u001b[0m \u001b[0;34m\"%s\"\u001b[0m\u001b[0;34m\u001b[0m\u001b[0;34m\u001b[0m\u001b[0m\n\u001b[0;32m--> 159\u001b[0;31m             \u001b[0;32mraise\u001b[0m \u001b[0mOperationFailure\u001b[0m\u001b[0;34m(\u001b[0m\u001b[0mmsg\u001b[0m \u001b[0;34m%\u001b[0m \u001b[0merrmsg\u001b[0m\u001b[0;34m,\u001b[0m \u001b[0mcode\u001b[0m\u001b[0;34m,\u001b[0m \u001b[0mresponse\u001b[0m\u001b[0;34m)\u001b[0m\u001b[0;34m\u001b[0m\u001b[0;34m\u001b[0m\u001b[0m\n\u001b[0m\u001b[1;32m    160\u001b[0m \u001b[0;34m\u001b[0m\u001b[0m\n\u001b[1;32m    161\u001b[0m \u001b[0;34m\u001b[0m\u001b[0m\n",
      "\u001b[0;31mOperationFailure\u001b[0m: Unrecognized expression '$toInt'"
     ],
     "ename": "OperationFailure",
     "evalue": "Unrecognized expression '$toInt'",
     "output_type": "error"
    }
   ],
   "source": [
    "c8 = db.autores.aggregate([\n",
    "    {\"$sample\":{\"size\":200}},\n",
    "    {\"$unwind\": \"$publications\"},\n",
    "    {\"$lookup\":\n",
    "     {\n",
    "       \"from\":\"documentos\",\n",
    "       \"localField\":\"publications\",\n",
    "       \"foreignField\":\"_id\",\n",
    "       \"as\":\"ref_publication\"\n",
    "     }},\n",
    "    {\"$addFields\":{\"año_min\":{\"$min\":\"$ref_publication.year\"}}},\n",
    "    {\"$addFields\":{\"año_max\":{\"$max\":\"$ref_publication.year\"}}},\n",
    "    {\"$addFields\": {\"Ultimo\": {\"$toInt\": \"$año_max\"}, \"Primero\": {\"$toInt\": \"$año_min\"}}}\n",
    "    # {\"$addFields\":{\"edad\":{\"$subtract\":[\"año_min\",\"año_max\"]}}},\n",
    "    \n",
    "    \n",
    "])\n",
    "print(list(c8))"
   ],
   "metadata": {
    "collapsed": false,
    "pycharm": {
     "name": "#%%\n",
     "is_executing": false
    }
   }
  },
  {
   "cell_type": "markdown",
   "source": [
    "## Consulta 9\n",
    "Número de autores novatos, es decir, que tengan una Edad menor de 5 años."
   ],
   "metadata": {
    "collapsed": false
   }
  },
  {
   "cell_type": "code",
   "source": [],
   "metadata": {
    "collapsed": false,
    "pycharm": {
     "name": "#%%\n"
    }
   },
   "execution_count": null,
   "outputs": []
  },
  {
   "cell_type": "markdown",
   "source": [
    "## Consulta 10\n",
    "Porcentaje de publicaciones en revistas con respecto al total de publicaciones."
   ],
   "metadata": {
    "collapsed": false
   }
  },
  {
   "cell_type": "code",
   "execution_count": 10,
   "outputs": [
    {
     "name": "stdout",
     "text": [
      "[{'Porcentaje': 45.89830331525446}]\n"
     ],
     "output_type": "stream"
    }
   ],
   "source": [
    "c10 = db.documentos.aggregate([\n",
    "        {\"$project\": {\"_id\": 1, \"articulo\": {\"$cond\": [{\"$eq\": [\"$type\",\"article\"]},1,0]}}},\n",
    "        {\"$group\":{\n",
    "        \"_id\":None, \n",
    "        \"Número de artículos\":{\"$sum\":\"$articulo\"}, \n",
    "        \"Número de documentos\":{\"$sum\":1}}},\n",
    "        {\"$project\":{\"_id\":0, \"Porcentaje\":{\"$divide\":[{\"$multiply\":[\"$Número de artículos\",100]},\"$Número de documentos\"]}}}      \n",
    "])\n",
    "\n",
    "print(list(c10))"
   ],
   "metadata": {
    "collapsed": false,
    "pycharm": {
     "name": "#%%\n",
     "is_executing": false
    }
   }
  }
 ],
 "metadata": {
  "kernelspec": {
   "display_name": "Python 3",
   "language": "python",
   "name": "python3"
  },
  "language_info": {
   "codemirror_mode": {
    "name": "ipython",
    "version": 3
   },
   "file_extension": ".py",
   "mimetype": "text/x-python",
   "name": "python",
   "nbconvert_exporter": "python",
   "pygments_lexer": "ipython3",
   "version": "3.7.6"
  },
  "toc": {
   "base_numbering": 1,
   "nav_menu": {},
   "number_sections": true,
   "sideBar": true,
   "skip_h1_title": false,
   "title_cell": "Table of Contents",
   "title_sidebar": "Contents",
   "toc_cell": false,
   "toc_position": {},
   "toc_section_display": true,
   "toc_window_display": false
  },
  "pycharm": {
   "stem_cell": {
    "cell_type": "raw",
    "source": [],
    "metadata": {
     "collapsed": false
    }
   }
  }
 },
 "nbformat": 4,
 "nbformat_minor": 4
}